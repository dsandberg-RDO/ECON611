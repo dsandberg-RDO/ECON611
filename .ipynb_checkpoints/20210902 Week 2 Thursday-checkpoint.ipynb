{
 "cells": [
  {
   "cell_type": "markdown",
   "id": "4d88209e",
   "metadata": {},
   "source": [
    "## Chapter 2 - Working with Lists"
   ]
  },
  {
   "cell_type": "code",
   "execution_count": 1,
   "id": "986159f5",
   "metadata": {},
   "outputs": [],
   "source": [
    "# Insert place holder up to \"Concatenate Lists\""
   ]
  },
  {
   "cell_type": "markdown",
   "id": "ad40d1a1",
   "metadata": {},
   "source": [
    "### Lists can hold different types of objects"
   ]
  },
  {
   "cell_type": "code",
   "execution_count": 2,
   "id": "a549824d",
   "metadata": {},
   "outputs": [
    {
     "name": "stdout",
     "output_type": "stream",
     "text": [
      "[]\n",
      "[7, 17, 29, 37, 53]\n",
      "[1.9, 1.7, 23.88, 88.42, 109.3882]\n",
      "['knuckle', 'panhead', 'bagger', 'dresser', 'fat boy', 'sporty']\n",
      "['Drew', 49, 0.44]\n"
     ]
    }
   ],
   "source": [
    "empty = []\n",
    "integer_list = [7,17,29,37,53]\n",
    "floaty_list = [1.9, 1.7, 23.88, 88.42, 109.3882]\n",
    "stringy_list = ['knuckle', 'panhead', 'bagger', 'dresser', 'fat boy', 'sporty'] \n",
    "mixed = ['Drew', 49, .44]\n",
    "\n",
    "print(empty)\n",
    "print(integer_list)\n",
    "print(floaty_list)\n",
    "print(stringy_list)\n",
    "print(mixed)"
   ]
  },
  {
   "cell_type": "code",
   "execution_count": 3,
   "id": "d88c5f7c",
   "metadata": {},
   "outputs": [
    {
     "name": "stdout",
     "output_type": "stream",
     "text": [
      "<class 'list'>\n",
      "First integer is 7 and second floaty is 1.7 and thrid stringy is bagger\n",
      "The list is a <class 'list'> and the 3rd item in the list is a <class 'float'>\n"
     ]
    }
   ],
   "source": [
    "#check type of one list\n",
    "print(type(mixed))\n",
    "\n",
    "# print the first element of integer, 2nd element of floaty, and 3rd element of stringy\n",
    "print(\"First integer is\", integer_list[0], \"and second floaty is\", floaty_list[1], \"and thrid stringy is\", stringy_list[2])\n",
    "\n",
    "#check type of the list and an item in the list\n",
    "print(\"The list is a\",type(mixed), \"and the 3rd item in the list is a\", type(mixed[2]))"
   ]
  },
  {
   "cell_type": "markdown",
   "id": "32903ae4",
   "metadata": {},
   "source": [
    "### Concatenation\n",
    "Or... con los gatos en el nation"
   ]
  },
  {
   "cell_type": "code",
   "execution_count": 4,
   "id": "5eec9622",
   "metadata": {},
   "outputs": [
    {
     "name": "stdout",
     "output_type": "stream",
     "text": [
      "uno: [9, 3, 23, 5, 90, 10, 11]\n",
      "dos: [2, 4, 6, 8, 99]\n",
      "tres [9, 3, 23, 5, 90, 10, 11, 2, 4, 6, 8, 99]\n"
     ]
    }
   ],
   "source": [
    "uno = [9,3,23,5,90,10,11]\n",
    "dos = [2,4,6,8,99]\n",
    "tres = uno + dos\n",
    "\n",
    "print(\"uno:\",uno)\n",
    "print(\"dos:\",dos)\n",
    "print('tres', tres)"
   ]
  },
  {
   "cell_type": "code",
   "execution_count": 5,
   "id": "cf5f08c2",
   "metadata": {
    "scrolled": true
   },
   "outputs": [
    {
     "name": "stdout",
     "output_type": "stream",
     "text": [
      "In the age of wonderthis land was good until the crystal cracked\n",
      "what is the 10th character in the joint string?: e\n"
     ]
    }
   ],
   "source": [
    "# one can concatenate strings, too\n",
    "s1 = \"In the age of wonder\"\n",
    "s2 = \"Another world, another time\"\n",
    "s3 = \"this land was good until the crystal cracked\"\n",
    "\n",
    "js = s1 + s3\n",
    "print(js)\n",
    "\n",
    "print(\"what is the 10th character in the joint string?:\", js[9])"
   ]
  },
  {
   "cell_type": "markdown",
   "id": "dae9f8f7",
   "metadata": {},
   "source": [
    "### Slices or subsets of lists"
   ]
  },
  {
   "cell_type": "code",
   "execution_count": 6,
   "id": "dffd79de",
   "metadata": {},
   "outputs": [
    {
     "name": "stdout",
     "output_type": "stream",
     "text": [
      "print first 3 items in alphabet ['a', 'b', 'c']\n",
      "print 1st through 2nd from alphabet ['a', 'b']\n",
      "2nd through  from alphabet ['b']\n",
      "start after 3rd ['d', 'e', 'f']\n",
      "print after 3rd and after, except last item? ['d', 'e']\n"
     ]
    }
   ],
   "source": [
    "alphabet = ['a', 'b', 'c', 'd', 'e', 'f']\n",
    "\n",
    "print(\"print first 3 items in alphabet\", alphabet[:3])\n",
    "\n",
    "#this is confusing: how do you know if it's going by absolute position, or array numbering?\n",
    "print(\"print 1st through 2nd from alphabet\", alphabet[0:2])\n",
    "print(\"2nd through  from alphabet\", alphabet[1:2])\n",
    "\n",
    "# can print from a midpoint starting position\n",
    "print(\"start after 3rd\", alphabet[3:])\n",
    "print(\"print after 3rd and after, except last item?\", alphabet[3:-1])\n"
   ]
  },
  {
   "cell_type": "markdown",
   "id": "cacdebfc",
   "metadata": {},
   "source": [
    "### For Loops"
   ]
  },
  {
   "cell_type": "code",
   "execution_count": 7,
   "id": "4793f5e2",
   "metadata": {},
   "outputs": [
    {
     "name": "stdout",
     "output_type": "stream",
     "text": [
      "[2, 4, 6, 8, 10]\n",
      "[1, 3, 5, 7, 9]\n",
      "[1, 2, 3, 4, 5, 6, 7, 8, 9, 10]\n",
      "[1, 2, 3, 4, 5, 6, 7, 8, 9, 10]\n",
      "[2, 4, 6, 8, 10, 1, 3, 5, 7, 9]\n",
      "The sum of listA is 30\n",
      "Multiplication of all numbers in listA is 3840\n"
     ]
    }
   ],
   "source": [
    "listA = [2,4,6,8,10]\n",
    "listB = [1,3,5,7,9]\n",
    "\n",
    "print(listA)\n",
    "print(listB)\n",
    "\n",
    "concatList = []\n",
    "appendList = []\n",
    "\n",
    "\n",
    "#Loop through a range of items in the \n",
    "for i in range(0,len(listA)):\n",
    "    concatList.append(listB[i])\n",
    "    concatList.append(listA[i])\n",
    "    \n",
    "print(concatList)\n",
    "\n",
    "# The above range loop is the same as adding the two lists, but it's not ordered as above.\n",
    "print(concatList)\n",
    "print(listA + listB)\n",
    "\n",
    "def multiplyList(list):\n",
    "    r = 1\n",
    "    for i in list:\n",
    "        r = r * i\n",
    "    return r\n",
    "\n",
    "\n",
    "if len(listA) == len(listB):\n",
    "    sumListA = sum(listA)\n",
    "    multiplyListA = multiplyList(listA)\n",
    "    print(\"The sum of listA is\", sumListA)\n",
    "    print(\"Multiplication of all numbers in listA is\", multiplyListA)\n",
    "    "
   ]
  },
  {
   "cell_type": "markdown",
   "id": "dbbbabd4",
   "metadata": {},
   "source": [
    "## IF usage"
   ]
  },
  {
   "cell_type": "code",
   "execution_count": 8,
   "id": "dccbde08",
   "metadata": {},
   "outputs": [
    {
     "name": "stdout",
     "output_type": "stream",
     "text": [
      "1 does equal 1\n",
      "1 not equial to 2\n",
      "x is not the same as 5 ** 2\n",
      "b is greater than a\n"
     ]
    }
   ],
   "source": [
    "if 1 == 1:\n",
    "    print(\"1 does equal 1\")\n",
    "    \n",
    "if 1 != 2:\n",
    "    print(\"1 not equial to 2\")\n",
    "    \n",
    "x = 4\n",
    "if x == 5 ** 2:\n",
    "    print(\"same as square of 5\")\n",
    "else:\n",
    "    print(\"x is not the same as 5 ** 2\")\n",
    "    \n",
    "if \"a\" > \"b\":\n",
    "    print(\"a is greater than b\")\n",
    "else:\n",
    "    print(\"b is greater than a\")\n",
    "    \n"
   ]
  },
  {
   "cell_type": "markdown",
   "id": "9a4fe42a",
   "metadata": {},
   "source": [
    "## Sorting"
   ]
  },
  {
   "cell_type": "code",
   "execution_count": 9,
   "id": "f10b3f44",
   "metadata": {},
   "outputs": [
    {
     "name": "stdout",
     "output_type": "stream",
     "text": [
      "[2, 9, 13, 16, 27, 99]\n"
     ]
    },
    {
     "data": {
      "text/plain": [
       "[99, 16, 27, 2, 13, 9]"
      ]
     },
     "execution_count": 9,
     "metadata": {},
     "output_type": "execute_result"
    }
   ],
   "source": [
    "unsorted = [9,13,2,27,16,99]\n",
    "unsorted_text = [\"mercury\", \"dimes\", \"nickels\", \"back\", \"field\", \"potato\", \"barn\", \"cow\"]\n",
    "\n",
    "sorted_list = sorted(unsorted)\n",
    "\n",
    "print(sorted_list)\n",
    "sorted(unsorted_text)\n",
    "\n",
    "#Sort list ascending\n",
    "sorted(unsorted_text)\n",
    "\n",
    "# Sort a list descending\n",
    "sorted(unsorted_text, reverse=True)\n",
    "\n",
    "# list things in reverse order\n",
    "unsorted[::-1]"
   ]
  },
  {
   "cell_type": "markdown",
   "id": "1771aede",
   "metadata": {},
   "source": [
    "## try: except:"
   ]
  },
  {
   "cell_type": "code",
   "execution_count": 10,
   "id": "861a023c",
   "metadata": {},
   "outputs": [
    {
     "name": "stdout",
     "output_type": "stream",
     "text": [
      "sort on mixed types in list\n",
      "sorted a forced alpha list ['1', '12', '21', '3', '7', '9', '9']\n",
      "sorted a forced integer list [1, 3, 7, 9, 9, 12, 21]\n"
     ]
    }
   ],
   "source": [
    "mixed_type_list = [1, '9', 3, '12', 7, 9, '21']\n",
    "\n",
    "try:\n",
    "    sorted(mixed_type_list)\n",
    "except:\n",
    "    print(\"sort on mixed types in list\")\n",
    "    \n",
    "#generator function\n",
    "forced_alpha = [str(i) for i in mixed_type_list]\n",
    "forced_int = [int(i) for i in mixed_type_list]\n",
    "\n",
    "print(\"sorted a forced alpha list\", sorted(forced_alpha))\n",
    "print(\"sorted a forced integer list\", sorted(forced_int))"
   ]
  },
  {
   "cell_type": "markdown",
   "id": "26abb2d3",
   "metadata": {},
   "source": [
    "## Nested loop"
   ]
  },
  {
   "cell_type": "code",
   "execution_count": 11,
   "id": "63c753eb",
   "metadata": {},
   "outputs": [
    {
     "name": "stdout",
     "output_type": "stream",
     "text": [
      "x y z\n",
      "0 0 0\n",
      "0 0 1\n",
      "0 0 2\n",
      "0 1 0\n",
      "0 1 1\n",
      "0 1 2\n",
      "1 0 0\n",
      "1 0 1\n",
      "1 0 2\n",
      "1 1 0\n",
      "1 1 1\n",
      "1 1 2\n"
     ]
    }
   ],
   "source": [
    "print(\"x\", \"y\",\"z\")\n",
    "for x in range(2):\n",
    "    for y in range(2):\n",
    "        for z in range(3):\n",
    "            print(x,y,z)"
   ]
  }
 ],
 "metadata": {
  "kernelspec": {
   "display_name": "Python 3",
   "language": "python",
   "name": "python3"
  },
  "language_info": {
   "codemirror_mode": {
    "name": "ipython",
    "version": 3
   },
   "file_extension": ".py",
   "mimetype": "text/x-python",
   "name": "python",
   "nbconvert_exporter": "python",
   "pygments_lexer": "ipython3",
   "version": "3.8.8"
  }
 },
 "nbformat": 4,
 "nbformat_minor": 5
}
