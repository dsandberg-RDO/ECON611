{
 "cells": [
  {
   "cell_type": "markdown",
   "id": "2e7da8f5",
   "metadata": {},
   "source": [
    "## Second proof of concept"
   ]
  },
  {
   "cell_type": "code",
   "execution_count": 7,
   "id": "91450502",
   "metadata": {},
   "outputs": [
    {
     "name": "stdout",
     "output_type": "stream",
     "text": [
      "Exponentizer says 4 to the 3.2 power is: 84.4\n"
     ]
    }
   ],
   "source": [
    "# Save file locally, then add, commit and push.\n",
    "\n",
    "def exponentizer(x,e):\n",
    "    n = round(x ** e,1)\n",
    "    return n;\n",
    "x = 4\n",
    "e = 3.2\n",
    "\n",
    "print(\"Exponentizer says\",x, \"to the\",e, \"power is:\", exponentizer(x,e))"
   ]
  }
 ],
 "metadata": {
  "kernelspec": {
   "display_name": "Python 3",
   "language": "python",
   "name": "python3"
  },
  "language_info": {
   "codemirror_mode": {
    "name": "ipython",
    "version": 3
   },
   "file_extension": ".py",
   "mimetype": "text/x-python",
   "name": "python",
   "nbconvert_exporter": "python",
   "pygments_lexer": "ipython3",
   "version": "3.8.8"
  }
 },
 "nbformat": 4,
 "nbformat_minor": 5
}
