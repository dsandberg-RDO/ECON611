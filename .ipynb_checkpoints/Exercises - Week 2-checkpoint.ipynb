{
 "cells": [
  {
   "cell_type": "markdown",
   "id": "76a2f78d",
   "metadata": {},
   "source": [
    "## Week 2 Exercises - ECON 611\n",
    "### Drew Sandberg | andrew.sandberg@ndsu.edu"
   ]
  },
  {
   "cell_type": "markdown",
   "id": "2519aa4c",
   "metadata": {},
   "source": [
    "### Exercises\n",
    "1. Create a list of numbers 100 elements in length that counts by 3s - i.e., [3,6,9,12,...]\n",
    "\n",
    "2. Using the list from question 1, create a second list whose elements are the same values converted to strings. hint: use a for loop and the function str().\n",
    "\n",
    "3. Using the list from question 2, create a variable that concatenates each of the elements in order of index (Hint: result should be like \"36912...\").\n",
    "\n",
    "4. Using .pop() and .append(), create a list whose values are the same as the list from question 1 but in reverse order. (Hint: .pop() removes the last element from a list. The value can be save, i.e., x = lst.pop().)\n",
    "\n",
    "5. Using len(), calculate the midpoint of the list from question 1. Pass this midpoint to slice the list so that the resultant copy includes only the second half of the list from question 1.\n",
    "\n",
    "6. Create a string that includes only every other element, starting from the 0th element, from the string in question 3 while maintaining the order of these elements (Hint: this can be done be using a for loop whose values are descending).\n",
    "\n",
    "7. Explain the difference between a dynamic list in Python (usually referred to as a list) and a tuple.\n",
    "\n",
    "### Exploration\n",
    "\n",
    "1. Use a generator to create a list of the first 100 prime numbers. Include a paragraph explaining how a generator works.\n",
    "\n",
    "2. Using a for loop and the pop function, create a list of the values from the list of prime numbers whose values are descending from highest to lowest.\n",
    "\n",
    "3. Using either of prime numbers, create another list that includes the same numbers but is randomly ordered. Do this without shuffling the initial list (Hint: you will need to import random and import copy). Explain in a paragraph the process that you followed to accomplish the task.\n"
   ]
  },
  {
   "cell_type": "markdown",
   "id": "1a872a24",
   "metadata": {},
   "source": [
    "### Q1. Create a list of numbers 100 elements in length that counts by 3s - i.e., [3,6,9,12,...]"
   ]
  },
  {
   "cell_type": "code",
   "execution_count": 1,
   "id": "a788d582",
   "metadata": {
    "scrolled": true
   },
   "outputs": [
    {
     "name": "stdout",
     "output_type": "stream",
     "text": [
      "Length of sequence is: 100\n",
      "[3, 6, 9, 12, 15, 18, 21, 24, 27, 30, 33, 36, 39, 42, 45, 48, 51, 54, 57, 60, 63, 66, 69, 72, 75, 78, 81, 84, 87, 90, 93, 96, 99, 102, 105, 108, 111, 114, 117, 120, 123, 126, 129, 132, 135, 138, 141, 144, 147, 150, 153, 156, 159, 162, 165, 168, 171, 174, 177, 180, 183, 186, 189, 192, 195, 198, 201, 204, 207, 210, 213, 216, 219, 222, 225, 228, 231, 234, 237, 240, 243, 246, 249, 252, 255, 258, 261, 264, 267, 270, 273, 276, 279, 282, 285, 288, 291, 294, 297, 300]\n"
     ]
    }
   ],
   "source": [
    "sequence = list(range(3,303,3))\n",
    "print(\"Length of sequence is:\", len(sequence))\n",
    "print(sequence)"
   ]
  },
  {
   "cell_type": "markdown",
   "id": "dad659b0",
   "metadata": {},
   "source": [
    "### Q2. Using the list from question 1, create a second list whose elements are the same values converted to strings. hint: use a for loop and the function str()."
   ]
  },
  {
   "cell_type": "code",
   "execution_count": 2,
   "id": "c146f869",
   "metadata": {},
   "outputs": [
    {
     "name": "stdout",
     "output_type": "stream",
     "text": [
      "['3', '6', '9', '12', '15', '18', '21', '24', '27', '30', '33', '36', '39', '42', '45', '48', '51', '54', '57', '60', '63', '66', '69', '72', '75', '78', '81', '84', '87', '90', '93', '96', '99', '102', '105', '108', '111', '114', '117', '120', '123', '126', '129', '132', '135', '138', '141', '144', '147', '150', '153', '156', '159', '162', '165', '168', '171', '174', '177', '180', '183', '186', '189', '192', '195', '198', '201', '204', '207', '210', '213', '216', '219', '222', '225', '228', '231', '234', '237', '240', '243', '246', '249', '252', '255', '258', '261', '264', '267', '270', '273', '276', '279', '282', '285', '288', '291', '294', '297', '300']\n"
     ]
    }
   ],
   "source": [
    "str_sequence = []\n",
    "for i in sequence:\n",
    "    str_sequence.append(str(i))\n",
    "\n",
    "print(str_sequence)"
   ]
  },
  {
   "cell_type": "markdown",
   "id": "fc12f3c1",
   "metadata": {},
   "source": [
    "### Q3. Using the list from question 2, create a variable that concatenates each of the elements in order of index (Hint: result should be like \"36912...\")."
   ]
  },
  {
   "cell_type": "code",
   "execution_count": 3,
   "id": "d248f687",
   "metadata": {
    "scrolled": true
   },
   "outputs": [
    {
     "name": "stdout",
     "output_type": "stream",
     "text": [
      "369121518212427303336394245485154576063666972757881848790939699102105108111114117120123126129132135138141144147150153156159162165168171174177180183186189192195198201204207210213216219222225228231234237240243246249252255258261264267270273276279282285288291294297300\n"
     ]
    }
   ],
   "source": [
    "concat_seq = ''.join(map(str,str_sequence))\n",
    "print(concat_seq)"
   ]
  },
  {
   "cell_type": "markdown",
   "id": "4d445b49",
   "metadata": {},
   "source": [
    "### Q4. Using .pop() and .append(), create a list whose values are the same as the list from question 1 but in reverse order. (Hint: .pop() removes the last element from a list. The value can be save, i.e., x = lst.pop().)"
   ]
  },
  {
   "cell_type": "code",
   "execution_count": 4,
   "id": "a75174ab",
   "metadata": {},
   "outputs": [
    {
     "name": "stdout",
     "output_type": "stream",
     "text": [
      "None\n"
     ]
    }
   ],
   "source": [
    "a = [1,2,3]\n",
    "b = [4,5]\n",
    "\n",
    "a = a.append(5)\n",
    "print(a)"
   ]
  },
  {
   "cell_type": "code",
   "execution_count": 5,
   "id": "ddb55b45",
   "metadata": {},
   "outputs": [
    {
     "name": "stdout",
     "output_type": "stream",
     "text": [
      "Reverse sequence is: [300, 297, 294, 291, 288, 285, 282, 279, 276, 273, 270, 267, 264, 261, 258, 255, 252, 249, 246, 243, 240, 237, 234, 231, 228, 225, 222, 219, 216, 213, 210, 207, 204, 201, 198, 195, 192, 189, 186, 183, 180, 177, 174, 171, 168, 165, 162, 159, 156, 153, 150, 147, 144, 141, 138, 135, 132, 129, 126, 123, 120, 117, 114, 111, 108, 105, 102, 99, 96, 93, 90, 87, 84, 81, 78, 75, 72, 69, 66, 63, 60, 57, 54, 51, 48, 45, 42, 39, 36, 33, 30, 27, 24, 21, 18, 15, 12, 9, 6, 3]\n",
      "Original 'sequence' variable is now empty []\n"
     ]
    }
   ],
   "source": [
    "sequence_rev = []\n",
    "\n",
    "for i in reversed(range(len(sequence))):\n",
    "    last_value = sequence.pop(i)\n",
    "    sequence_rev.append(last_value)\n",
    "    \n",
    "print(\"Reverse sequence is:\", sequence_rev)\n",
    "print(\"Original 'sequence' variable is now empty\", sequence)"
   ]
  },
  {
   "cell_type": "markdown",
   "id": "0402340b",
   "metadata": {},
   "source": [
    "### Q5. Using len(), calculate the midpoint of the list from question 1. Pass this midpoint to slice the list so that the resultant copy includes only the second half of the list from question 1."
   ]
  },
  {
   "cell_type": "code",
   "execution_count": 6,
   "id": "664b5248",
   "metadata": {},
   "outputs": [
    {
     "name": "stdout",
     "output_type": "stream",
     "text": [
      "last half of sequence [153, 156, 159, 162, 165, 168, 171, 174, 177, 180, 183, 186, 189, 192, 195, 198, 201, 204, 207, 210, 213, 216, 219, 222, 225, 228, 231, 234, 237, 240, 243, 246, 249, 252, 255, 258, 261, 264, 267, 270, 273, 276, 279, 282, 285, 288, 291, 294, 297, 300]\n"
     ]
    }
   ],
   "source": [
    "# re-populate the original sequence\n",
    "sequence = list(range(3,303,3))\n",
    "midpoint = len(sequence)//2\n",
    "\n",
    "later_half_of_sequence = sequence[midpoint:]\n",
    "print(\"last half of sequence\", later_half_of_sequence)"
   ]
  },
  {
   "cell_type": "markdown",
   "id": "586822c5",
   "metadata": {},
   "source": [
    "### Q6. Create a string that includes only every other element, starting from the 0th element, from the string in question 3 while maintaining the order of these elements (Hint: this can be done be using a for loop whose values are descending)."
   ]
  },
  {
   "cell_type": "code",
   "execution_count": 7,
   "id": "967a12cb",
   "metadata": {},
   "outputs": [
    {
     "name": "stdout",
     "output_type": "stream",
     "text": [
      "every other character from 'concat_seq' is: 392581470369258147036925814703690150111172132193153114175135196156117178138199159210271231292252213274234295255216277237298258219270\n"
     ]
    }
   ],
   "source": [
    "# eeo = every other one...\n",
    "# recall that slicing a list can take the following notation[start:stop:step]\n",
    "eeo = concat_seq[::2]\n",
    "print(\"every other character from 'concat_seq' is:\", eeo)"
   ]
  },
  {
   "cell_type": "markdown",
   "id": "3bbbb39b",
   "metadata": {},
   "source": [
    "### Q7. Explain the difference between a dynamic list in Python (usually referred to as a list) and a tuple"
   ]
  },
  {
   "cell_type": "markdown",
   "id": "0cab5a92",
   "metadata": {},
   "source": [
    "Lists are like arrays and element values can be different types and each element's value can be changed (mutable). Tuples are similar to records, or in other words, they are a collection (or set) of objects (ojbects can be different types) but tuples cannot be changed (immutable)."
   ]
  },
  {
   "cell_type": "markdown",
   "id": "bec3e83a",
   "metadata": {},
   "source": [
    "\n",
    "\n",
    "### E1. Use a generator to create a list of the first 100 prime numbers. Include a paragraph explaining how a generator works"
   ]
  },
  {
   "cell_type": "markdown",
   "id": "a39a3895",
   "metadata": {},
   "source": [
    "The following code runs a main program called \"main\".  The main function accepts an integer as input, which is the number of prime numbers to include in the list. \"main\" calls the \"in_prime\" function and will append prime numbers to the defined variable 'list', as determined from the \"is_prime\" function, until the desired maximum list length is achieved. \n",
    "\n",
    "The is_prime function is the \"generator\" function because it uses a yield statement, which means the function suspends processing until it is called again, but retains it's original values. In this case, it's retaining the value of the 'num' variable. So\n",
    "\n",
    "The is_prime function increments the 'num' variable by 1 each time it is called. The value of 'num' is part of a range loop, where the value of 'num' is tested whether it is divisible by any integer 2 through the value of 'num'.\n",
    "\n",
    "This code works because the \"if\" statment is looking to validate that the name of the function being called is \"main\". In this case, \"main\" is a reserved key program name -- Python is always looking to run a \"main\" function. In this case, the if statemetn is looking to see if the following code being called is named \"main\". Since it is, the program will proceeded. Had the clause after the 'if' statment been anything other than main, the program would not have run."
   ]
  },
  {
   "cell_type": "code",
   "execution_count": 8,
   "id": "37c6cb58",
   "metadata": {},
   "outputs": [
    {
     "data": {
      "text/plain": [
       "0"
      ]
     },
     "execution_count": 8,
     "metadata": {},
     "output_type": "execute_result"
    }
   ],
   "source": [
    "2 % 2"
   ]
  },
  {
   "cell_type": "code",
   "execution_count": 9,
   "id": "6983fdb8",
   "metadata": {},
   "outputs": [
    {
     "name": "stdout",
     "output_type": "stream",
     "text": [
      "The first 100 prime numbers are: [2, 3, 5, 7, 11, 13, 17, 19, 23, 29, 31, 37, 41, 43, 47, 53, 59, 61, 67, 71, 73, 79, 83, 89, 97, 101, 103, 107, 109, 113, 127, 131, 137, 139, 149, 151, 157, 163, 167, 173, 179, 181, 191, 193, 197, 199, 211, 223, 227, 229, 233, 239, 241, 251, 257, 263, 269, 271, 277, 281, 283, 293, 307, 311, 313, 317, 331, 337, 347, 349, 353, 359, 367, 373, 379, 383, 389, 397, 401, 409, 419, 421, 431, 433, 439, 443, 449, 457, 461, 463, 467, 479, 487, 491, 499, 503, 509, 521, 523, 541]\n",
      "The length of the list is: 100\n"
     ]
    }
   ],
   "source": [
    "# My code was adapted from example in https://www.geeksforgeeks.org/using-generators-for-substantial-memory-savings-in-python/\n",
    "n_list_prime = []\n",
    "\n",
    "def is_prime():\n",
    "    prime = None\n",
    "    num = 0\n",
    "    while True:\n",
    "        num += 1\n",
    "        for i in range(2, num): \n",
    "            if(num % i) == 0:\n",
    "                prime = False\n",
    "                break\n",
    "            else:\n",
    "                prime = True\n",
    "  \n",
    "        if prime or num == 2: # yields the value to the caller and halts the execution\n",
    "            yield num\n",
    "  \n",
    "def main(max_list_length):\n",
    "      \n",
    "    # returns the generator object.\n",
    "    prime = is_prime()\n",
    "      \n",
    "    # generator executes upon request\n",
    "    for i in prime:\n",
    "        n_list_prime.append(i)\n",
    "        if len(n_list_prime) == max_list_length:\n",
    "            break\n",
    "            \n",
    "if __name__ == \"__main__\":\n",
    "    main(100)   \n",
    "    \n",
    "print(\"The first 100 prime numbers are:\",n_list_prime)    \n",
    "print(\"The length of the list is:\",len(n_list_prime))"
   ]
  },
  {
   "cell_type": "markdown",
   "id": "21725e98",
   "metadata": {},
   "source": [
    "### E2. Using a for loop and the pop function, create a list of the values from the list of prime numbers whose values are descending from highest to lowest."
   ]
  },
  {
   "cell_type": "code",
   "execution_count": 10,
   "id": "fecf5df2",
   "metadata": {},
   "outputs": [
    {
     "name": "stdout",
     "output_type": "stream",
     "text": [
      "Reverse sequence is: [541, 523, 521, 509, 503, 499, 491, 487, 479, 467, 463, 461, 457, 449, 443, 439, 433, 431, 421, 419, 409, 401, 397, 389, 383, 379, 373, 367, 359, 353, 349, 347, 337, 331, 317, 313, 311, 307, 293, 283, 281, 277, 271, 269, 263, 257, 251, 241, 239, 233, 229, 227, 223, 211, 199, 197, 193, 191, 181, 179, 173, 167, 163, 157, 151, 149, 139, 137, 131, 127, 113, 109, 107, 103, 101, 97, 89, 83, 79, 73, 71, 67, 61, 59, 53, 47, 43, 41, 37, 31, 29, 23, 19, 17, 13, 11, 7, 5, 3, 2]\n"
     ]
    }
   ],
   "source": [
    "reversed_primes = []\n",
    "\n",
    "for i in reversed(range(len(n_list_prime))):\n",
    "    last_value = n_list_prime.pop(i)\n",
    "    reversed_primes.append(last_value)\n",
    "    \n",
    "print(\"Reverse sequence is:\", reversed_primes)\n"
   ]
  },
  {
   "cell_type": "markdown",
   "id": "a64ceef4",
   "metadata": {},
   "source": [
    "### E3. Using either of prime numbers, create another list that includes the same numbers but is randomly ordered. Do this without shuffling the initial list (Hint: you will need to import random and import copy). Explain in a paragraph the process that you followed to accomplish the task."
   ]
  },
  {
   "cell_type": "markdown",
   "id": "4e6ebbbd",
   "metadata": {},
   "source": [
    "The code below uses the sample function, to sample, wihtout replacement, the reversed_primes list and to assign the randomly sampled numbers to a new list called 'sampled_list'. The second parameter of random.sample function indicates how many times the sampling should occur."
   ]
  },
  {
   "cell_type": "code",
   "execution_count": 11,
   "id": "17dc5953",
   "metadata": {
    "scrolled": true
   },
   "outputs": [
    {
     "name": "stdout",
     "output_type": "stream",
     "text": [
      "Radomly selected values from 'reversed_primes' list: [467, 521, 523, 79, 311, 113, 353, 439, 97, 3, 257, 457, 359, 337, 401, 149, 139, 503, 59, 223, 47, 383, 179, 7, 251, 461, 181, 479, 499, 227, 13, 307, 283, 43, 41, 229, 211, 431, 103, 83, 71, 277, 67, 107, 443, 109, 367, 263, 37, 509, 73, 5, 433, 131, 389, 347, 331, 199, 19, 23, 487, 197, 191, 491, 89, 409, 421, 151, 271, 293, 163, 373, 317, 313, 127, 137, 541, 31, 17, 349, 193, 449, 167, 233, 29, 239, 157, 241, 173, 281, 61, 379, 419, 2, 11, 53, 397, 463, 269, 101]\n",
      "Success: Length of 'reversed_primes' list == length of unique values in 'sampled_list'\n"
     ]
    }
   ],
   "source": [
    "import random\n",
    "sampled_list = random.sample(reversed_primes, len(reversed_primes))\n",
    "print(\"Radomly selected values from 'reversed_primes' list:\", sampled_list)\n",
    "\n",
    "if len(reversed_primes) == len(set(sampled_list)):\n",
    "    print(\"Success: Length of 'reversed_primes' list == length of unique values in 'sampled_list'\")\n",
    "else:\n",
    "    print(\"Drew, try again.\")"
   ]
  }
 ],
 "metadata": {
  "kernelspec": {
   "display_name": "Python 3",
   "language": "python",
   "name": "python3"
  },
  "language_info": {
   "codemirror_mode": {
    "name": "ipython",
    "version": 3
   },
   "file_extension": ".py",
   "mimetype": "text/x-python",
   "name": "python",
   "nbconvert_exporter": "python",
   "pygments_lexer": "ipython3",
   "version": "3.8.8"
  }
 },
 "nbformat": 4,
 "nbformat_minor": 5
}
