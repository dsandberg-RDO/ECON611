{
 "cells": [
  {
   "cell_type": "markdown",
   "id": "3d76e053",
   "metadata": {},
   "source": [
    "# Drew Sandberg demo file"
   ]
  },
  {
   "cell_type": "code",
   "execution_count": 2,
   "id": "caba7cd3",
   "metadata": {},
   "outputs": [
    {
     "name": "stdout",
     "output_type": "stream",
     "text": [
      "What is 3 to the 3rd power?:  27\n"
     ]
    }
   ],
   "source": [
    "# Basic calculation\n",
    "exp = 3 ** 3\n",
    "\n",
    "print(\"What is 3 to the 3rd power?: \", exp)"
   ]
  }
 ],
 "metadata": {
  "kernelspec": {
   "display_name": "Python 3",
   "language": "python",
   "name": "python3"
  },
  "language_info": {
   "codemirror_mode": {
    "name": "ipython",
    "version": 3
   },
   "file_extension": ".py",
   "mimetype": "text/x-python",
   "name": "python",
   "nbconvert_exporter": "python",
   "pygments_lexer": "ipython3",
   "version": "3.8.8"
  }
 },
 "nbformat": 4,
 "nbformat_minor": 5
}
