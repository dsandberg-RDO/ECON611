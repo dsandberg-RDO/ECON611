{
 "cells": [
  {
   "cell_type": "code",
   "execution_count": 6,
   "id": "fbad5191",
   "metadata": {},
   "outputs": [],
   "source": [
    "import pandas as pd\n",
    "import numpy as np\n",
    "import pandas_datareader.data as web\n",
    "import datetime\n",
    "import json\n",
    "import pandas_datareader as web"
   ]
  },
  {
   "cell_type": "code",
   "execution_count": 7,
   "id": "87389e06",
   "metadata": {},
   "outputs": [],
   "source": [
    "def yahoo_stock_pull(year, dict_, filename):\n",
    "    start = datetime.datetime(year, 1, 1)\n",
    "    end = datetime.datetime.today()\n",
    "    keys = dict_.keys()\n",
    "    new_dict={}\n",
    "    for key in keys:\n",
    "        new_dict[key] = web.DataReader(key, 'yahoo', start, end)\n",
    "    df = pd.concat([df['Close'] for df in new_dict.values()], axis=1, keys=new_dict.keys())\n",
    "    df.columns = df.columns.map(dict_)\n",
    "    df.to_csv(filename)\n",
    "    return\n",
    "\n",
    "def fed_data_pull(year, dict_, filename):\n",
    "    start = datetime.datetime(year, 1, 1)\n",
    "    end = datetime.datetime.today()\n",
    "    keys = dict_.keys()\n",
    "    df = web.DataReader(keys,'fred', start, end)\n",
    "    df.columns = df.columns.map(dict_)\n",
    "    df.to_csv(filename)\n",
    "    return"
   ]
  },
  {
   "cell_type": "code",
   "execution_count": 22,
   "id": "88d6bd81",
   "metadata": {},
   "outputs": [],
   "source": [
    "fed_assets = {\n",
    "    'WSHOMCB':'Fed-held Mortgage-backed Securities',\n",
    "    'RESPPANWW':'Fed Total Assets'\n",
    "}\n",
    "filename = 'Federal Reserve Assets.csv'\n",
    "fed_data_pull(2015, fed_assets, filename)"
   ]
  },
  {
   "cell_type": "code",
   "execution_count": 23,
   "id": "d2be3849",
   "metadata": {},
   "outputs": [],
   "source": [
    "steel_production_dict = {\n",
    "    'IPN3311A2RS': 'Industrial Production of Steel for Durable Goods',\n",
    "    'IPG333S': 'Industrial Production of Machinery'\n",
    "}\n",
    "filename = 'Production.csv'\n",
    "fed_data_pull(2015, steel_production_dict, filename)"
   ]
  },
  {
   "cell_type": "code",
   "execution_count": 8,
   "id": "0edcf746",
   "metadata": {},
   "outputs": [],
   "source": [
    "stock_dict = {\n",
    "    'DE':'John Deere',\n",
    "    'CNHI':'CNH Intl',\n",
    "    'AGCO':'AGCO',\n",
    "    'TWI':'Tital-Intl',\n",
    "    'LNN':'Lindasy Corp',\n",
    "    'ALG':'Alamo Group'\n",
    "}\n",
    "filename = 'Ag Mfg Stock Close.csv'\n",
    "yahoo_stock_pull(2015, stock_dict, filename)"
   ]
  },
  {
   "cell_type": "code",
   "execution_count": 18,
   "id": "b5176c7d",
   "metadata": {},
   "outputs": [],
   "source": [
    "steel_dict = {\n",
    "    'CLF':'Cleveland Cliffs Inc',\n",
    "    'NUE':'Nucor Corp',\n",
    "    'STLD':'Steel Dynamics',\n",
    "    'TMST':'TimkenSteel Corp',\n",
    "    'RYI':'Ryerson Holding Corp'\n",
    "}\n",
    "\n",
    "filename = 'Steel.csv'\n",
    "yahoo_stock_pull(2015, steel_dict, filename)"
   ]
  },
  {
   "cell_type": "code",
   "execution_count": 9,
   "id": "c5ace838",
   "metadata": {},
   "outputs": [],
   "source": [
    "commodity_dict = {\n",
    "    'WPS012202':   'Corn',\n",
    "    'WPU01830131': 'Soybeans',\n",
    "    'WPU0121':     'Wheat',\n",
    "    'WPU011306':   'Potatoes'\n",
    "}\n",
    "\n",
    "filename = 'Commodity PPI.csv'\n",
    "fed_data_pull(2010, commodity_dict, filename)"
   ]
  },
  {
   "cell_type": "code",
   "execution_count": 10,
   "id": "e015521a",
   "metadata": {},
   "outputs": [],
   "source": [
    "breakeven_dict = {'T5YIE': '5 YR Break-even',\n",
    "                  'T7YIEM': '7 YR Break-even',\n",
    "                  'T10YIEM': '10 YR Break-even', \n",
    "                  'T20YIEM': '20 YR Break-even', \n",
    "                  'T30YIEM': '30 YR Break-even'}\n",
    "\n",
    "filename ='Breakeven Rates.csv'\n",
    "fed_data_pull(2000, breakeven_dict, filename)"
   ]
  },
  {
   "cell_type": "code",
   "execution_count": 11,
   "id": "318b5267",
   "metadata": {},
   "outputs": [],
   "source": [
    "metals_dict = {\n",
    "    'PALUMUSDM':'Global Alumuminum $USD Per Metic Ton', \n",
    "    'WPU101707':'Cold-Rolled Steel PPI', \n",
    "    'WPU10260301':'Electronic Wire and Cable PPI', \n",
    "    'WPU101703': 'Hot-Rolled Steel PPI'\n",
    "}\n",
    "\n",
    "filename = 'Metals.csv'\n",
    "fed_data_pull(2000, metals_dict, filename)"
   ]
  },
  {
   "cell_type": "code",
   "execution_count": 15,
   "id": "82bbb7c2",
   "metadata": {},
   "outputs": [],
   "source": [
    "equip_dict = {\n",
    "    \"WPU11140911\":\"Ag Equipment Parts\",\n",
    "    'WPU11140611': 'Ag Harvest Equip.',\n",
    "    'WPU11140711': 'Haying Equipment',\n",
    "    'WPU11140511': 'Planting/Fertizer Equip.',\n",
    "    'WPU11140211': 'Ag Attachments'\n",
    "}\n",
    "filename = 'Equipment PPI.csv'\n",
    "fed_data_pull(2015, equip_dict, filename)"
   ]
  },
  {
   "cell_type": "code",
   "execution_count": 13,
   "id": "feade5ea",
   "metadata": {},
   "outputs": [],
   "source": [
    "employment_dict = {\n",
    "    'CES3100000003':'Avg Hourly Wage Durable Good Mfg.',\n",
    "    'JTS3200QUL':'Job Quits (x1000) Durable Goods Mfg',\n",
    "    'JTS3200HIL':'Job Hires (x1000) Durable Goods Mfg',\n",
    "    'JTS3200JOL':'Job Openings (x1000) Durable Good Mfg',\n",
    "    'CIVPART': 'Civilian Labor Participation Rate',\n",
    "    'CLF16OV':'Civilian Labor Population (x1000)'\n",
    "}\n",
    "filename = 'Employment.csv'\n",
    "fed_data_pull(2007, employment_dict, filename)"
   ]
  },
  {
   "cell_type": "code",
   "execution_count": 14,
   "id": "55b9c60b",
   "metadata": {},
   "outputs": [
    {
     "name": "stderr",
     "output_type": "stream",
     "text": [
      "C:\\Users\\SAND8464\\Anaconda3\\lib\\site-packages\\IPython\\core\\interactiveshell.py:3441: DtypeWarning: Columns (0,4,6,10,16) have mixed types.Specify dtype option on import or set low_memory=False.\n",
      "  exec(code_obj, self.user_global_ns, self.user_ns)\n"
     ]
    }
   ],
   "source": [
    "national_df = pd.read_csv('NationalFile.csv')\n",
    "national_df = national_df[national_df['FEATURE_CLASS']=='Populated Place']\n",
    "national_df = national_df[['FEATURE_NAME', 'STATE_ALPHA', 'PRIM_LAT_DEC', 'PRIM_LONG_DEC', 'STATE_NUMERIC', 'COUNTY_NUMERIC']]\n",
    "\n",
    "national_df.dropna(how='any', axis=0, inplace=True)\n",
    "national_df['FIPS'] = national_df['STATE_NUMERIC'].astype(int) * 1000 + national_df['COUNTY_NUMERIC'].astype(int)\n",
    "national_df['CityState'] = national_df['FEATURE_NAME'].str.title() + ' ' + national_df['STATE_ALPHA']\n",
    "\n",
    "# Reduce the file down to the necessary columns\n",
    "national_df = national_df[['CityState', 'FIPS', 'PRIM_LAT_DEC', 'PRIM_LONG_DEC']]\n",
    "national_df.rename(columns={'PRIM_LAT_DEC':'Latitude', 'PRIM_LONG_DEC':'Longitude'}, inplace=True)\n",
    "\n",
    "# Write the file to repo; will import later.\n",
    "national_df.to_csv('CityState.csv', index=False)   "
   ]
  },
  {
   "cell_type": "code",
   "execution_count": null,
   "id": "6498ab51",
   "metadata": {},
   "outputs": [],
   "source": []
  }
 ],
 "metadata": {
  "kernelspec": {
   "display_name": "Python 3 (ipykernel)",
   "language": "python",
   "name": "python3"
  },
  "language_info": {
   "codemirror_mode": {
    "name": "ipython",
    "version": 3
   },
   "file_extension": ".py",
   "mimetype": "text/x-python",
   "name": "python",
   "nbconvert_exporter": "python",
   "pygments_lexer": "ipython3",
   "version": "3.8.8"
  }
 },
 "nbformat": 4,
 "nbformat_minor": 5
}
