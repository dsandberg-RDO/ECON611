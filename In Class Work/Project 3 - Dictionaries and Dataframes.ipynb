{
 "cells": [
  {
   "cell_type": "markdown",
   "id": "6e3e3f88",
   "metadata": {},
   "source": [
    "## Project 3: Dictionaries and Dataframes"
   ]
  },
  {
   "cell_type": "markdown",
   "id": "eb93513f",
   "metadata": {},
   "source": [
    "Dictionaries differ from lists in that dictionaries done assume an index. I.e. elementrs within lists can be called by their index, but \n",
    "\n",
    "Dictionaries are key/object pairings in format {key:ojb}"
   ]
  },
  {
   "cell_type": "code",
   "execution_count": 1,
   "id": "6c9bbc36",
   "metadata": {
    "scrolled": true
   },
   "outputs": [
    {
     "data": {
      "text/plain": [
       "{}"
      ]
     },
     "execution_count": 1,
     "metadata": {},
     "output_type": "execute_result"
    }
   ],
   "source": [
    "dct = {}\n",
    "dct"
   ]
  },
  {
   "cell_type": "code",
   "execution_count": 2,
   "id": "3ce557a7",
   "metadata": {},
   "outputs": [
    {
     "data": {
      "text/plain": [
       "{'run': {}, 'walk': {}}"
      ]
     },
     "execution_count": 2,
     "metadata": {},
     "output_type": "execute_result"
    }
   ],
   "source": [
    "dct  = {\n",
    "    \"run\":{},\n",
    "    \"walk\":{}\n",
    "}\n",
    "\n",
    "dct"
   ]
  },
  {
   "cell_type": "code",
   "execution_count": 3,
   "id": "b8db723a",
   "metadata": {},
   "outputs": [
    {
     "data": {
      "text/plain": [
       "{'stem_end': {'glucose': 0.37, 'sucrose': 1.15},\n",
       " 'bud_end': {'glucose': 0.11, 'sucrose': [0, 2, 3, 4, 7]}}"
      ]
     },
     "execution_count": 3,
     "metadata": {},
     "output_type": "execute_result"
    }
   ],
   "source": [
    "sugar = {\n",
    "    \"stem_end\":{\n",
    "        \"glucose\": 0.37,\n",
    "        \"sucrose\": 1.15\n",
    "    },\n",
    "    \"bud_end\":{\n",
    "        \"glucose\":0.11,\n",
    "        \"sucrose\":[0,2,3,4,7]\n",
    "    }\n",
    "}\n",
    "\n",
    "sugar"
   ]
  },
  {
   "cell_type": "code",
   "execution_count": 4,
   "id": "85ef35f1",
   "metadata": {},
   "outputs": [
    {
     "data": {
      "text/html": [
       "<div>\n",
       "<style scoped>\n",
       "    .dataframe tbody tr th:only-of-type {\n",
       "        vertical-align: middle;\n",
       "    }\n",
       "\n",
       "    .dataframe tbody tr th {\n",
       "        vertical-align: top;\n",
       "    }\n",
       "\n",
       "    .dataframe thead th {\n",
       "        text-align: right;\n",
       "    }\n",
       "</style>\n",
       "<table border=\"1\" class=\"dataframe\">\n",
       "  <thead>\n",
       "    <tr style=\"text-align: right;\">\n",
       "      <th></th>\n",
       "      <th>stem_end</th>\n",
       "      <th>bud_end</th>\n",
       "    </tr>\n",
       "  </thead>\n",
       "  <tbody>\n",
       "    <tr>\n",
       "      <th>glucose</th>\n",
       "      <td>0.37</td>\n",
       "      <td>0.11</td>\n",
       "    </tr>\n",
       "    <tr>\n",
       "      <th>sucrose</th>\n",
       "      <td>1.15</td>\n",
       "      <td>[0, 2, 3, 4, 7]</td>\n",
       "    </tr>\n",
       "  </tbody>\n",
       "</table>\n",
       "</div>"
      ],
      "text/plain": [
       "         stem_end          bud_end\n",
       "glucose      0.37             0.11\n",
       "sucrose      1.15  [0, 2, 3, 4, 7]"
      ]
     },
     "execution_count": 4,
     "metadata": {},
     "output_type": "execute_result"
    }
   ],
   "source": [
    "import pandas as pd\n",
    "df = pd.DataFrame(sugar)\n",
    "\n",
    "df"
   ]
  },
  {
   "cell_type": "code",
   "execution_count": 5,
   "id": "ac33d457",
   "metadata": {},
   "outputs": [],
   "source": [
    "students = {\n",
    "    \"Terri\":{\"age\":48,\n",
    "            \"color\":\"blue\"},\n",
    "    \"Greta\":{\"age\":13,\n",
    "            \"color\":\"yellow\"},\n",
    "    \"Claire\":{\"age\":21,\n",
    "             \"color\":\"red\"}\n",
    "}\n",
    "\n",
    "# the .T function pivots the dictionary ie. transorms wide to long, etc.\n",
    "df = pd.DataFrame(students).T"
   ]
  },
  {
   "cell_type": "markdown",
   "id": "f67e6481",
   "metadata": {},
   "source": [
    "In context of dictionarys...\n",
    "\"Indexes\" are the row names and \"keys\" are the column names. "
   ]
  },
  {
   "cell_type": "code",
   "execution_count": 6,
   "id": "e1de30be",
   "metadata": {},
   "outputs": [
    {
     "data": {
      "text/plain": [
       "Index(['Terri', 'Greta', 'Claire'], dtype='object')"
      ]
     },
     "execution_count": 6,
     "metadata": {},
     "output_type": "execute_result"
    }
   ],
   "source": [
    "# Remember\n",
    "df.index"
   ]
  },
  {
   "cell_type": "code",
   "execution_count": 7,
   "id": "19ca96da",
   "metadata": {},
   "outputs": [
    {
     "data": {
      "text/plain": [
       "Index(['age', 'color'], dtype='object')"
      ]
     },
     "execution_count": 7,
     "metadata": {},
     "output_type": "execute_result"
    }
   ],
   "source": [
    "df.keys()"
   ]
  },
  {
   "cell_type": "code",
   "execution_count": 8,
   "id": "0e686a18",
   "metadata": {},
   "outputs": [
    {
     "data": {
      "text/plain": [
       "13"
      ]
     },
     "execution_count": 8,
     "metadata": {},
     "output_type": "execute_result"
    }
   ],
   "source": [
    "df.iloc[1,1]\n",
    "df.loc['Greta','age'] #[row, column]\n",
    "# row is the top of the heirarchy, when the df has been transformed\n"
   ]
  },
  {
   "cell_type": "code",
   "execution_count": 9,
   "id": "52a74782",
   "metadata": {
    "scrolled": false
   },
   "outputs": [
    {
     "data": {
      "text/html": [
       "<div>\n",
       "<style scoped>\n",
       "    .dataframe tbody tr th:only-of-type {\n",
       "        vertical-align: middle;\n",
       "    }\n",
       "\n",
       "    .dataframe tbody tr th {\n",
       "        vertical-align: top;\n",
       "    }\n",
       "\n",
       "    .dataframe thead th {\n",
       "        text-align: right;\n",
       "    }\n",
       "</style>\n",
       "<table border=\"1\" class=\"dataframe\">\n",
       "  <thead>\n",
       "    <tr style=\"text-align: right;\">\n",
       "      <th></th>\n",
       "      <th>age</th>\n",
       "      <th>color</th>\n",
       "      <th>school</th>\n",
       "    </tr>\n",
       "  </thead>\n",
       "  <tbody>\n",
       "    <tr>\n",
       "      <th>Terri</th>\n",
       "      <td>48</td>\n",
       "      <td>blue</td>\n",
       "      <td>NaN</td>\n",
       "    </tr>\n",
       "    <tr>\n",
       "      <th>Greta</th>\n",
       "      <td>13</td>\n",
       "      <td>yellow</td>\n",
       "      <td>NaN</td>\n",
       "    </tr>\n",
       "    <tr>\n",
       "      <th>Claire</th>\n",
       "      <td>21</td>\n",
       "      <td>red</td>\n",
       "      <td>NaN</td>\n",
       "    </tr>\n",
       "    <tr>\n",
       "      <th>Scott</th>\n",
       "      <td>19</td>\n",
       "      <td>teal</td>\n",
       "      <td>Concordia</td>\n",
       "    </tr>\n",
       "  </tbody>\n",
       "</table>\n",
       "</div>"
      ],
      "text/plain": [
       "       age   color     school\n",
       "Terri   48    blue        NaN\n",
       "Greta   13  yellow        NaN\n",
       "Claire  21     red        NaN\n",
       "Scott   19    teal  Concordia"
      ]
     },
     "execution_count": 9,
     "metadata": {},
     "output_type": "execute_result"
    }
   ],
   "source": [
    "# add a record to a dictionary\n",
    "\n",
    "students[\"Scott\"] = {\"age\":19,\"color\":\"teal\",\"school\":\"Concordia\"}\n",
    "students\n",
    "\n",
    "df_students = pd.DataFrame(students).T\n",
    "df_students"
   ]
  },
  {
   "cell_type": "code",
   "execution_count": 10,
   "id": "383b2e39",
   "metadata": {
    "scrolled": true
   },
   "outputs": [
    {
     "data": {
      "text/html": [
       "<div>\n",
       "<style scoped>\n",
       "    .dataframe tbody tr th:only-of-type {\n",
       "        vertical-align: middle;\n",
       "    }\n",
       "\n",
       "    .dataframe tbody tr th {\n",
       "        vertical-align: top;\n",
       "    }\n",
       "\n",
       "    .dataframe thead th {\n",
       "        text-align: right;\n",
       "    }\n",
       "</style>\n",
       "<table border=\"1\" class=\"dataframe\">\n",
       "  <thead>\n",
       "    <tr style=\"text-align: right;\">\n",
       "      <th></th>\n",
       "      <th>age</th>\n",
       "      <th>color</th>\n",
       "      <th>school</th>\n",
       "    </tr>\n",
       "  </thead>\n",
       "  <tbody>\n",
       "    <tr>\n",
       "      <th>Terri</th>\n",
       "      <td>48</td>\n",
       "      <td>blue</td>\n",
       "      <td>NaN</td>\n",
       "    </tr>\n",
       "  </tbody>\n",
       "</table>\n",
       "</div>"
      ],
      "text/plain": [
       "      age color school\n",
       "Terri  48  blue    NaN"
      ]
     },
     "execution_count": 10,
     "metadata": {},
     "output_type": "execute_result"
    }
   ],
   "source": [
    "# filter dataset to rows where column value has a string\n",
    "df_students[df_students[\"color\"].str.contains(\"blue\")]"
   ]
  },
  {
   "cell_type": "code",
   "execution_count": 11,
   "id": "a1abe468",
   "metadata": {},
   "outputs": [
    {
     "data": {
      "text/html": [
       "<div>\n",
       "<style scoped>\n",
       "    .dataframe tbody tr th:only-of-type {\n",
       "        vertical-align: middle;\n",
       "    }\n",
       "\n",
       "    .dataframe tbody tr th {\n",
       "        vertical-align: top;\n",
       "    }\n",
       "\n",
       "    .dataframe thead th {\n",
       "        text-align: right;\n",
       "    }\n",
       "</style>\n",
       "<table border=\"1\" class=\"dataframe\">\n",
       "  <thead>\n",
       "    <tr style=\"text-align: right;\">\n",
       "      <th></th>\n",
       "      <th>age</th>\n",
       "      <th>color</th>\n",
       "      <th>school</th>\n",
       "    </tr>\n",
       "  </thead>\n",
       "  <tbody>\n",
       "    <tr>\n",
       "      <th>Terri</th>\n",
       "      <td>48</td>\n",
       "      <td>blue</td>\n",
       "      <td>NaN</td>\n",
       "    </tr>\n",
       "  </tbody>\n",
       "</table>\n",
       "</div>"
      ],
      "text/plain": [
       "      age color school\n",
       "Terri  48  blue    NaN"
      ]
     },
     "execution_count": 11,
     "metadata": {},
     "output_type": "execute_result"
    }
   ],
   "source": [
    "# May filter the row names of a dataframe by using 'like' or 'items'\n",
    "like_t = df_students.filter(like = 'T', axis = 0)\n",
    "like_t"
   ]
  },
  {
   "cell_type": "code",
   "execution_count": 12,
   "id": "fe6db024",
   "metadata": {},
   "outputs": [
    {
     "data": {
      "text/html": [
       "<div>\n",
       "<style scoped>\n",
       "    .dataframe tbody tr th:only-of-type {\n",
       "        vertical-align: middle;\n",
       "    }\n",
       "\n",
       "    .dataframe tbody tr th {\n",
       "        vertical-align: top;\n",
       "    }\n",
       "\n",
       "    .dataframe thead th {\n",
       "        text-align: right;\n",
       "    }\n",
       "</style>\n",
       "<table border=\"1\" class=\"dataframe\">\n",
       "  <thead>\n",
       "    <tr style=\"text-align: right;\">\n",
       "      <th></th>\n",
       "      <th>age</th>\n",
       "      <th>color</th>\n",
       "      <th>school</th>\n",
       "    </tr>\n",
       "  </thead>\n",
       "  <tbody>\n",
       "    <tr>\n",
       "      <th>Greta</th>\n",
       "      <td>13</td>\n",
       "      <td>yellow</td>\n",
       "      <td>NaN</td>\n",
       "    </tr>\n",
       "  </tbody>\n",
       "</table>\n",
       "</div>"
      ],
      "text/plain": [
       "      age   color school\n",
       "Greta  13  yellow    NaN"
      ]
     },
     "execution_count": 12,
     "metadata": {},
     "output_type": "execute_result"
    }
   ],
   "source": [
    "# equal test for exact string\n",
    "equal_greta = df_students.filter(items = ['Greta'], axis = 0)\n",
    "equal_greta"
   ]
  },
  {
   "cell_type": "code",
   "execution_count": 13,
   "id": "dcf74516",
   "metadata": {},
   "outputs": [
    {
     "data": {
      "text/html": [
       "<div>\n",
       "<style scoped>\n",
       "    .dataframe tbody tr th:only-of-type {\n",
       "        vertical-align: middle;\n",
       "    }\n",
       "\n",
       "    .dataframe tbody tr th {\n",
       "        vertical-align: top;\n",
       "    }\n",
       "\n",
       "    .dataframe thead th {\n",
       "        text-align: right;\n",
       "    }\n",
       "</style>\n",
       "<table border=\"1\" class=\"dataframe\">\n",
       "  <thead>\n",
       "    <tr style=\"text-align: right;\">\n",
       "      <th></th>\n",
       "      <th>age</th>\n",
       "      <th>color</th>\n",
       "      <th>school</th>\n",
       "    </tr>\n",
       "  </thead>\n",
       "  <tbody>\n",
       "    <tr>\n",
       "      <th>Greta</th>\n",
       "      <td>13</td>\n",
       "      <td>yellow</td>\n",
       "      <td>NaN</td>\n",
       "    </tr>\n",
       "    <tr>\n",
       "      <th>Claire</th>\n",
       "      <td>21</td>\n",
       "      <td>red</td>\n",
       "      <td>NaN</td>\n",
       "    </tr>\n",
       "  </tbody>\n",
       "</table>\n",
       "</div>"
      ],
      "text/plain": [
       "       age   color school\n",
       "Greta   13  yellow    NaN\n",
       "Claire  21     red    NaN"
      ]
     },
     "execution_count": 13,
     "metadata": {},
     "output_type": "execute_result"
    }
   ],
   "source": [
    "# Also can use regular expressions in filter\n",
    "regex_any_a = df_students.filter(regex = '[aA]', axis = 0)\n",
    "regex_any_a"
   ]
  },
  {
   "cell_type": "code",
   "execution_count": 14,
   "id": "17d060fb",
   "metadata": {},
   "outputs": [
    {
     "data": {
      "text/html": [
       "<div>\n",
       "<style scoped>\n",
       "    .dataframe tbody tr th:only-of-type {\n",
       "        vertical-align: middle;\n",
       "    }\n",
       "\n",
       "    .dataframe tbody tr th {\n",
       "        vertical-align: top;\n",
       "    }\n",
       "\n",
       "    .dataframe thead th {\n",
       "        text-align: right;\n",
       "    }\n",
       "</style>\n",
       "<table border=\"1\" class=\"dataframe\">\n",
       "  <thead>\n",
       "    <tr style=\"text-align: right;\">\n",
       "      <th></th>\n",
       "      <th>age</th>\n",
       "      <th>color</th>\n",
       "      <th>school</th>\n",
       "    </tr>\n",
       "  </thead>\n",
       "  <tbody>\n",
       "    <tr>\n",
       "      <th>Greta</th>\n",
       "      <td>13</td>\n",
       "      <td>yellow</td>\n",
       "      <td>NaN</td>\n",
       "    </tr>\n",
       "    <tr>\n",
       "      <th>Scott</th>\n",
       "      <td>19</td>\n",
       "      <td>teal</td>\n",
       "      <td>Concordia</td>\n",
       "    </tr>\n",
       "  </tbody>\n",
       "</table>\n",
       "</div>"
      ],
      "text/plain": [
       "      age   color     school\n",
       "Greta  13  yellow        NaN\n",
       "Scott  19    teal  Concordia"
      ]
     },
     "execution_count": 14,
     "metadata": {},
     "output_type": "execute_result"
    }
   ],
   "source": [
    "# if you have a known set of names you want to pull then...\n",
    "# I've done this with the pricing project\n",
    "names = [\"Scott\", \"Greta\"]\n",
    "df_students[df_students.index.isin(names)]"
   ]
  },
  {
   "cell_type": "code",
   "execution_count": 15,
   "id": "036e6cee",
   "metadata": {
    "scrolled": true
   },
   "outputs": [
    {
     "data": {
      "text/plain": [
       "Index(['age', 'color', 'school'], dtype='object')"
      ]
     },
     "execution_count": 15,
     "metadata": {},
     "output_type": "execute_result"
    }
   ],
   "source": [
    "df_students.keys()"
   ]
  },
  {
   "cell_type": "code",
   "execution_count": 16,
   "id": "8ee28f33",
   "metadata": {
    "scrolled": false
   },
   "outputs": [
    {
     "data": {
      "text/plain": [
       "[{'William Nganje, Ph.D.': {'url': 'https://www.ndsu.edu/agecon/faculty/william_nganje/#c622350',\n",
       "   'intro': 'Risk management; financial analysis; economics of obesity, food safety  and food terrorism; experimental economics; and consumer choice theory',\n",
       "   'updated': 'Last Updated: Friday, September 10, 2021 8:38:51 AM'}},\n",
       " {'David W. Bullock, Ph.D.': {'url': 'https://www.ndsu.edu/agecon/faculty/bullock/#c622728',\n",
       "   'intro': 'Dr. David W. Bullock is a Research Associate Professor affiliated with the Center for Trading and Risk at NDSU.\\xa0 His research interests include futures and options markets, over-the-counter derivatives, trading, risk management, agrifinance, Monte Carlo simulation, and Big Data applications in agriculture.\\xa0 His academic research on option portfolio theory has been published in both the\\xa0Journal of Economics and Business\\xa0and the\\xa0International Review of Economics and Finance.\\xa0 Additionally, he was the primary contributor behind the\\xa0AgriBank Insights\\xa0publication series which won a National AgriMarketing Association (NAMA) award for the best company publication in 2016.',\n",
       "   'updated': 'Last Updated: Friday, September 10, 2021 8:38:51 AM'}},\n",
       " {'James Caton, Ph.D.': {'url': 'https://www.ndsu.edu/centers/pcpe/about/directory/james_caton/',\n",
       "   'intro': \"James Caton is a scholar at the Challey Institute for Global Innovation and Growth with the Center for the Study of Public Choice and Private Enterprise and an assistant professor of economics in the Department of Agribusiness and Applied Economics at North Dakota State University. He teaches undergraduate courses in the areas of macroeconomics, international trade, and computation. He specializes in research related to entrepreneurship, agent-based computational economics, market process theory, and monetary economics. His research has been published in the Southern Economic Journal, Erasmus Journal for Philosophy and Economics, Journal of Entrepreneurship and Public Policy\\xa0and other academic publications.\\xa0He co-edited Macroeconomics, a two volume set of essays and primary sources that represent the core of macroeconomic thought.\\xa0He is also a regular contributor to the American Institute for Economic Research's Sound Money Project, which conducts research and promotes awareness about monetary stability and financial privacy.\\xa0\",\n",
       "   'updated': 'Last Updated: Monday, August 16, 2021 8:43:40 AM'}},\n",
       " {'David Englund, M.S.': {'url': 'https://www.ndsu.edu/agecon/faculty/englund/#c622903',\n",
       "   'intro': 'David Englund is a lecturer in the department.\\xa0 He came to the  department with 16 years of teaching experience, having taught  Principles of Microeconomics, Principles of Macroeconomics, Money and  Banking, Consumer Behavior, Selected Topics in Business, and several  other classes.\\xa0 He also had 10 years’ experience advising student NAMA  chapters, having been awarded the Outstanding Advisor of the Year for a  Developing Chapter in 2002, and the Outstanding Advisor of the Year  award in 2009.',\n",
       "   'updated': 'Last Updated: Friday, September 10, 2021 8:38:51 AM'}},\n",
       " {'Erik Hanson, Ph.D.': {'url': 'https://www.ndsu.edu/agecon/faculty/hanson/#c622905',\n",
       "   'intro': 'Erik Hanson is an Assistant Professor in the Department of Agricultural  and Applied Economics. He teaches courses on agribusiness management and  agricultural finance. Erik completed his Ph.D. at the University of  Minnesota in 2016. Prior to that, Erik completed a master’s degree at  the University of Illinois (2013) and a bachelor’s degree at Minnesota  State University Moorhead (2011). ',\n",
       "   'updated': 'Last Updated: Friday, September 10, 2021 8:38:51 AM'}},\n",
       " {'Ronald Haugen, M.S.': {'url': 'https://www.ndsu.edu/agecon/about_us/faculty/ron_haugen/#c654700',\n",
       "   'intro': 'Ron Haugen is an Extension Farm Management Specialist. He has been in the department since 1991. Farm management topics include: crop budgets, crop insurance, farm programs, custom farm rates, land rents, machinery economics, commodity price projections and agricultural income taxes. He computes the North Dakota Land Valuation Model.',\n",
       "   'updated': 'Last Updated: Friday, September 10, 2021 8:38:51 AM'}},\n",
       " {'Robert Hearne, Ph.D.': {'url': 'https://www.ndsu.edu/agecon/faculty/hearne/#c622909',\n",
       "   'intro': 'Dr. Bob Hearne has been in the Department of Agribusiness and  Applied Economics since 2002.\\xa0\\xa0 His research focuses on water resources  management institutions, water markets, protected area management, and  the economic valuation of environmental goods and services.\\xa0 He has  professional experience in Europe, Asia, Latin America, and Asia.\\xa0',\n",
       "   'updated': 'Last Updated: Friday, September 10, 2021 8:38:51 AM'}},\n",
       " {'Jeremy Jackson, Ph.D.': {'url': 'https://www.ndsu.edu/centers/pcpe/about/directory/jeremy_jackson/',\n",
       "   'intro': 'Jeremy Jackson is director of the Center for the Study of Public Choice and Private Enterprise, scholar at the Challey Institute for Global Innovation and Growth, and professor of economics in the Department of Agribusiness and Applied Economics at North Dakota State University..\\xa0He teaches undergraduate and graduate courses in the areas of microeconomics, public economics, and game theory and strategy.\\xa0His research covers diverse topics, including public choice and the political economy; the social consequences of economic freedom; happiness and well-being; and philanthropy and nonprofits. His research has been published in Applied Economics, The Independent Review,\\xa0Public Choice, Contemporary Economic Policy, Journal of Happiness Studies, and other refereed and non-refereed sources.\\xa0',\n",
       "   'updated': 'Last Updated: Monday, August 16, 2021 8:42:26 AM'}},\n",
       " {'Siew Lim, Ph.D.': {'url': 'https://www.ndsu.edu/agecon/faculty/lim/#c624837',\n",
       "   'intro': 'Siew Hoon Lim is an associate professor of economics. Her current  research is in applied microeconomics, production economics, industrial  organization, transportation and regional development. Her recent  research works include transportation and\\xa0 regional development. \\xa0',\n",
       "   'updated': 'Last Updated: Friday, September 10, 2021 8:38:51 AM'}},\n",
       " {'Raymond March, Ph.D.': {'url': 'https://www.ndsu.edu/centers/pcpe/about/directory/raymond_march/',\n",
       "   'intro': 'Raymond March is a scholar at the Challey Institute for Global Innovation and Growth with the Center for the Study of Public Choice and Private Enterprise and an assistant professor of economics in the Department of Agribusiness and Applied Economics at North Dakota State University. He teaches courses in microeconomics, the history of economic thought, and health economics. His research examines the public and private provision and governance of health care in the United States, particularly in pharmaceutical markets.\\xa0His research has appeared in Southern Economic Journal, Public Choice, Research Policy, Journal of Institutional Economics, and other academic publications. His popular writings are published in the Washington Examiner, The Hill, Real Clear Health, Health Care News, Sun Sentinel, Foundation for Economic Education, and elsewhere.\\xa0',\n",
       "   'updated': 'Last Updated: Monday, August 16, 2021 8:45:05 AM'}},\n",
       " {'Dragan Miljkovic, Ph.D.': {'url': 'https://www.ndsu.edu/agecon/faculty/miljkovic/#c625001',\n",
       "   'intro': 'Dragan Miljkovic is professor of agricultural economics in the  Department of Agribusiness & Applied Economics at North Dakota State  University. Dr. Miljkovic holds B.S. and M.S. degrees in Economics from  the University of Belgrade, and Ph.D. in Agricultural Economics from  the University of Illinois at Urbana-Champaign. Research areas of  interest include agricultural price analysis, international economics,  and agricultural and food policy including human nutrition, obesity, and  food safety. Dr. Miljkovic authored over sixty peer reviewed journal  articles and book chapters, and edited three books. He has more than 60  selected and invited presentations at various domestic and international  conferences and universities in North America, Europe, New Zealand, and  Australia. Dr. Miljkovic teaches undergraduate class in agricultural  prices and graduate advanced econometrics class.',\n",
       "   'updated': 'Last Updated: Friday, September 10, 2021 8:38:51 AM'}},\n",
       " {'Frayne Olson, Ph.D.': {'url': 'https://www.ndsu.edu/agecon/faculty/olson/#c625016',\n",
       "   'intro': 'Dr. Frayne Olson is the Crop Economist/Marketing Specialist with the North Dakota State University Extension and Director of the Quentin Burdick Center for Cooperatives.\\xa0 Dr. Olson conducts educational programs and research in evaluating crop marketing strategies, crop outlook and price analysis, and the economics of crop contracting.\\xa0 As Director of the Center for Cooperatives, he teaches a senior level course on cooperative business management and coordinates the Center’s research and outreach activities.\\xa0\\xa0',\n",
       "   'updated': 'Last Updated: Friday, September 10, 2021 8:38:51 AM'}},\n",
       " {'Bryon Parman, Ph.D.': {'url': 'https://www.ndsu.edu/agecon/faculty/parman/#c654590',\n",
       "   'intro': 'Agribusiness and Applied Economics Phone:\\xa0+1 (701) 231-7441 Campus address:\\xa0Richard Barry Hall 500 Physical/delivery address:\\xa0811 2nd Ave N, Fargo, ND 58108-6050 Mailing address: NDSU Dept. 7610 / PO Box 6050 / Fargo, ND 58108-6050 Page manager:\\xa0Contact Agribusiness and Applied Economics',\n",
       "   'updated': 'Last Updated: Friday, September 10, 2021 8:38:51 AM'}},\n",
       " {'Tim Petry, M.S.': {'url': 'https://www.ndsu.edu/agecon/faculty/petry/#c625018',\n",
       "   'intro': 'Tim Petry was raised on a livestock ranch in Northwestern North  Dakota. He graduated from North Dakota State University with a major in  Agricultural Economics in 1969 and served two years in the US Army.  Petry returned to NDSU and completed a Master’s Degree in Agricultural  Economics with an agricultural marketing emphasis in1973.',\n",
       "   'updated': 'Last Updated: Friday, September 10, 2021 8:38:51 AM'}},\n",
       " {'Xudong Rao, Ph.D.': {'url': 'https://www.ndsu.edu/agecon/faculty/rao/#c629066',\n",
       "   'intro': 'Farm and Agribusiness Management, Risk Analysis, Efficiency and  Productivity, Technology Adoption, Food and Agricultural Policy,  International Agricultural Development',\n",
       "   'updated': 'Last Updated: Friday, September 10, 2021 8:38:51 AM'}},\n",
       " {'Veeshan Rayamajhee, Ph.D.': {'url': 'https://www.ndsu.edu/centers/pcpe/about/directory/veeshan_rayamajhee/',\n",
       "   'intro': 'Veeshan Rayamajhee is a scholar at the Challey Institute for Global Innovation and Growth with the Center for the Study of Public Choice and Private Enterprise and an assistant professor of economics in the Department of Agribusiness and Applied Economics at North Dakota State University. His research combines insights from Public Choice and New Institutional Economics to understand individual and collective responses to covariate shocks. He uses a range of empirical tools to study issues related to disasters, climate adaptation, food and energy security, and environmental externalities. His research has appeared in peer-reviewed journals such as Journal of Institutional Economics, Disasters, Economics of Disasters and Climate Change, Journal of International Development, Food Security, and Renewable Energy. For updates on his research, please visit: veeshan.rayamajhee.com/research',\n",
       "   'updated': 'Last Updated: Monday, August 16, 2021 8:46:10 AM'}},\n",
       " {'David Ripplinger, Ph.D.': {'url': 'https://www.ndsu.edu/agecon/faculty/ripplinger/#c629078',\n",
       "   'intro': 'David Ripplinger is an Associate Professor in the Department of Agribusiness and Applied Economics at North Dakota State University and bioproducts/bioenergy economics specialist with NDSU Extension. In these roles, David conducts research and provides support to farmers and the bioenergy industry.\\xa0',\n",
       "   'updated': 'Last Updated: Friday, September 10, 2021 8:38:51 AM'}},\n",
       " {'David Roberts, Ph.D.': {'url': 'https://www.ndsu.edu/agecon/faculty/roberts/#c629137',\n",
       "   'intro': 'David Roberts is an Assistant Professor of Agribusiness  and Applied Economics at North Dakota State University. His research  focuses on the impacts of agricultural production methods on the  environment and natural resources. David is particularly interested in  the economics of precision agriculture technologies and the response of  cropping patterns and land use change to emerging biofuels policy at the  Federal level.',\n",
       "   'updated': 'Last Updated: Friday, September 10, 2021 8:38:51 AM'}},\n",
       " {'Kristi Schweiss, M.S.': {'url': 'https://www.ndsu.edu/agecon/faculty/schweiss/#c629139',\n",
       "   'intro': 'Agribusiness and Applied Economics Phone:\\xa0+1 (701) 231-7441 Campus address:\\xa0Richard Barry Hall 500 Physical/delivery address:\\xa0811 2nd Ave N, Fargo, ND 58108-6050 Mailing address: NDSU Dept. 7610 / PO Box 6050 / Fargo, ND 58108-6050 Page manager:\\xa0Contact Agribusiness and Applied Economics',\n",
       "   'updated': 'Last Updated: Friday, September 10, 2021 8:38:51 AM'}},\n",
       " {'Anupa Sharma, Ph.D.': {'url': 'https://www.ndsu.edu/agecon/faculty/sharma/#c629150',\n",
       "   'intro': 'Anupa Sharma is an Assistant Professor in the Department of  Agribusiness and Applied Economics at North Dakota State University. She  also serves as the Assistant Director for the Center for Agricultural Policy and Trade Studies (CAPTS). She develops quantitative methods to address issues pertinent to International Trade.',\n",
       "   'updated': 'Last Updated: Friday, September 10, 2021 8:38:51 AM'}},\n",
       " {'Cheryl Wachenheim, Ph.D.': {'url': 'https://www.ndsu.edu/agecon/faculty/wachenheim/#c629162',\n",
       "   'intro': 'Cheryl Wachenheim is a Professor in the Department of Agribusiness  and Applied Economics at North Dakota State University. She holds an  undergraduate degree in animal sciences from the University of  Minnesota, and a Master’s and doctorate in Agricultural Economics and an  MBA from Michigan State University. She began her academic career at  Illinois State University in Central Illinois and has been on the  faculty at NDSU since 1998.\\xa0 She regularly teaches classes in economics,  agricultural sales, agricultural finance, agricultural marketing, and  strategic marketing and management. \\xa0Research interests focus on  eliciting perceptions and valuations from consumers, firms, students and  other stakeholders and decision makers.\\xa0 Analysis then allows for  identification of high-value marketing and management strategies.\\xa0  Cheryl has been a member of the MN Army National Guard since 1998. She  is currently the Commander of the 204th Area Medical Support Company in Cottage Grove, Minnesota.',\n",
       "   'updated': 'Last Updated: Friday, September 10, 2021 8:38:51 AM'}},\n",
       " {'William Wilson, Ph.D.': {'url': 'https://www.ndsu.edu/agecon/faculty/wilson/#c629178',\n",
       "   'intro': 'Dr. William W. Wilson received his PhD in Agricultural Economics from the University of Manitoba in 1980. Since then he has been a Professor at North Dakota State University in Agribusiness and Applied Economics with periodic sabbaticals at Stanford University. Recently, he was named as a University Distinguished Professor at NDSU which an honorary position is, and a great achievement.\\xa0 And, in 2016 he was named the CHS Chair in Risk Management and Trading at NDSU which is an endowed position. In 2017 he was awarded the AAEA 2016 Distinguished Teaching Award (Chicago July 2017)',\n",
       "   'updated': 'Last Updated: Friday, September 10, 2021 8:38:51 AM'}}]"
      ]
     },
     "execution_count": 16,
     "metadata": {},
     "output_type": "execute_result"
    }
   ],
   "source": [
    "#www.ndsu.edu/agecon/faculty \n",
    "# create the professor dictionary for homework ;)\n",
    "# websrcape this data to build the dictionary\n",
    "from bs4 import BeautifulSoup\n",
    "import requests\n",
    "import pandas as pd\n",
    "\n",
    "# build the NDAWN url string \n",
    "url = \"https://www.ndsu.edu/agecon/faculty\"\n",
    "page = requests.get(url)\n",
    "soup = BeautifulSoup(page.content, 'html.parser')\n",
    "\n",
    "names = []\n",
    "urls = []\n",
    "for i in soup.select('h5'):\n",
    "    urls.append(i.a['href'])\n",
    "    names.append(i.a.get_text())\n",
    "\n",
    "clean_urls =[]\n",
    "for i in urls:\n",
    "    if i.startswith('http'):\n",
    "        clean_urls.append(i)\n",
    "    else:\n",
    "        clean_urls.append(\"https://www.ndsu.edu\" + str(i))\n",
    "        \n",
    "lead_para =[]\n",
    "for i in clean_urls:\n",
    "    lead_para.append(BeautifulSoup(requests.get(i).content, 'html.parser').select('p')[0].get_text())\n",
    "    \n",
    "updated =[]\n",
    "for i in clean_urls:\n",
    "    updated.append(BeautifulSoup(requests.get(i).content, 'html.parser').select('p')[-2].get_text())\n",
    "\n",
    "dict = [{names:{\"url\":clean_urls, \"intro\":lead_para, \"updated\":updated}} for (names, clean_urls, lead_para, updated) in zip(names, clean_urls, lead_para, updated)]\n",
    "dict"
   ]
  },
  {
   "cell_type": "code",
   "execution_count": 17,
   "id": "fe3a0c80",
   "metadata": {},
   "outputs": [
    {
     "name": "stdout",
     "output_type": "stream",
     "text": [
      "a exists in the list\n"
     ]
    }
   ],
   "source": [
    "# Check if elsment exists in list\n",
    "l = [\"a\", \"b\", \"c\"]\n",
    "if \"a\" in l:\n",
    "    print(\"a exists in the list\")\n"
   ]
  }
 ],
 "metadata": {
  "kernelspec": {
   "display_name": "Python 3",
   "language": "python",
   "name": "python3"
  },
  "language_info": {
   "codemirror_mode": {
    "name": "ipython",
    "version": 3
   },
   "file_extension": ".py",
   "mimetype": "text/x-python",
   "name": "python",
   "nbconvert_exporter": "python",
   "pygments_lexer": "ipython3",
   "version": "3.8.8"
  }
 },
 "nbformat": 4,
 "nbformat_minor": 5
}
