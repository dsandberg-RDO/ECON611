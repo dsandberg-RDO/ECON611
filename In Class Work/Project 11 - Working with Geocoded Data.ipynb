{
 "cells": [
  {
   "cell_type": "markdown",
   "id": "cafcea0e",
   "metadata": {},
   "source": [
    "## Project 11: Working with Geocoded Data\n"
   ]
  },
  {
   "cell_type": "code",
   "execution_count": null,
   "id": "ebb426b9",
   "metadata": {},
   "outputs": [],
   "source": [
    "from platform import python_version\n",
    "python_version()"
   ]
  },
  {
   "cell_type": "code",
   "execution_count": null,
   "id": "cac9e85d",
   "metadata": {
    "scrolled": true
   },
   "outputs": [],
   "source": [
    "import json\n",
    "import geopandas\n",
    "import numpy as np\n",
    "import pandas as pd\n",
    "import datetime\n",
    "\n",
    "\n",
    "# matplotlib modules...\n",
    "import matplotlib as mpl\n",
    "import matplotlib.pyplot as plt\n",
    "from matplotlib import cm\n",
    "\n",
    "# If you choose to make a dynamic visualization for the homework\n",
    "from matplotlib.animation import FuncAnimation\n",
    "from mpl_toolkits.axes_grid1 import make_axes_locatable\n",
    "from matplotlib.backends.backend_pdf import PdfPages\n",
    "import matplotlib.ticker as mtick\n",
    "import datadotworld as dw\n",
    "\n",
    "state_dict = json.load(open('state_dict.json')) "
   ]
  },
  {
   "cell_type": "markdown",
   "id": "bacb76a3",
   "metadata": {},
   "source": [
    "### Downloading the COVID-19 data\n",
    "\n",
    "We will use two datasets. First, we will import a shapefile to use with *geopandas*, which we will later use to generate a county level map that tracks COVID-19. The shapefile is provide for you in the Github folder housing this post. You can also download shapefiles from the U.S. Census [website](https://www.census.gov/geographies/mapping-files/time-series/geo/carto-boundary-file.html). We will download Johns Hopkins's COVID-19 data from the Associated Press's [account](https://data.world/associatedpress/johns-hopkins-coronavirus-case-tracker) at data.world using their [Python module](https://data.world/integrations/python). Follow [these instructions](https://github.com/datadotworld/data.world-py/) to install the  *datadotworld* module and access their API. **You must provide an authorization token for datadotworld. See instructions at the link above under the _Configure_ heading**\n",
    "\n",
    "*Datadotworld* may be useful efficiently collecting data for class projects, so keep this libary in mind as you make plans for your project. If you require administrative privilege for the installation, be sure to launch Jupyter from a command shell that is granted administrative privelege or add --user to each line."
   ]
  },
  {
   "cell_type": "markdown",
   "id": "160b0833",
   "metadata": {},
   "source": [
    "## Installed packages"
   ]
  },
  {
   "cell_type": "code",
   "execution_count": null,
   "id": "faf0952b",
   "metadata": {
    "scrolled": true
   },
   "outputs": [],
   "source": [
    "# !pip install GDAL-3.1.4-cp38-cp38-win_amd64.whl\n",
    "# !pip install Fiona-1.8.17-cp38-cp38-win_amd64.whl\n",
    "# !pip install Shapely-1.7.1-cp38-cp38-win_amd64.whl\n",
    "# !pip install geopandas"
   ]
  },
  {
   "cell_type": "code",
   "execution_count": null,
   "id": "f39acd79",
   "metadata": {},
   "outputs": [],
   "source": [
    "plt.rcParams['axes.ymargin'] = 0\n",
    "plt.rcParams['axes.xmargin'] = 0\n",
    "plt.rcParams.update({'font.size': 32})"
   ]
  },
  {
   "cell_type": "code",
   "execution_count": null,
   "id": "faebe179",
   "metadata": {},
   "outputs": [],
   "source": [
    "def import_geo_data(filename, index_col = \"Date\", FIPS_name = \"FIPS\"):\n",
    "    # import county level shapefile\n",
    "    map_data = geopandas.read_file(filename = filename,                                   \n",
    "                                   index_col = index_col)\n",
    "    # rename fips code to match variable name in COVID-19 data\n",
    "    map_data.rename(columns={\"State\":\"state\"},\n",
    "                    inplace = True)\n",
    "    # Combine statefips and county fips to create a single fips value\n",
    "    # that identifies each particular county without referencing the \n",
    "    # state separately\n",
    "    map_data[FIPS_name] = map_data[\"STATEFP\"].astype(str) + \\\n",
    "        map_data[\"COUNTYFP\"].astype(str)\n",
    "    map_data[FIPS_name] = map_data[FIPS_name].astype(np.int64)\n",
    "    # set FIPS as index\n",
    "    map_data.set_index(FIPS_name, inplace=True)\n",
    "    \n",
    "    return map_data"
   ]
  },
  {
   "cell_type": "code",
   "execution_count": null,
   "id": "065324f4",
   "metadata": {},
   "outputs": [],
   "source": [
    "state_dict"
   ]
  },
  {
   "cell_type": "markdown",
   "id": "cac8bb29",
   "metadata": {},
   "source": [
    "### DREW: Apply map function to information; see note below"
   ]
  },
  {
   "cell_type": "code",
   "execution_count": null,
   "id": "a84a401f",
   "metadata": {},
   "outputs": [],
   "source": [
    "def import_covid_data(FIPS_name):\n",
    "    # Load COVID19 county data using datadotworld API\n",
    "    # Data provided by Johns Hopkins, file provided by Associated Press\n",
    "    dataset = dw.load_dataset(\"associatedpress/johns-hopkins-coronavirus-case-tracker\",\n",
    "                              auto_update = True)\n",
    "    # the dataset includes multiple dataframes. We will only use #2\n",
    "    covid_data = dataset.dataframes[\"2_cases_and_deaths_by_county_timeseries\"]\n",
    "    # Include only oberservation for political entities within states\n",
    "    # i.e., not territories, etc... drop any nan fip values with covid_data[FIPS_name] > 0\n",
    "    covid_data = covid_data[covid_data[FIPS_name] < 57000]\n",
    "    covid_data = covid_data[covid_data[FIPS_name] > 0]\n",
    "    \n",
    "    \n",
    "    \n",
    "\n",
    "    # Transform FIPS codes into integers (not floats)\n",
    "    covid_data[FIPS_name] = covid_data[FIPS_name].astype(int)\n",
    "    covid_data['date'] = pd.to_datetime(covid_data['date'])\n",
    "    covid_data.set_index([FIPS_name, \"date\"], inplace = True)\n",
    "    # Prepare a column for state abbreviations. We will draw these from a\n",
    "    # dictionary created in the next step.\n",
    "    covid_data[\"state_abr\"] = \"\"\n",
    "    \n",
    "    \n",
    "    \n",
    "    ## DREW HERE.... map function\n",
    "    \n",
    "    ## also, familairaize your self on how to update a variable in a for loop\n",
    "    ## and match on values in other columns... be more articulate on this explaination\n",
    "    for state, abr in state_dict.items():\n",
    "        covid_data.loc[covid_data[\"state\"] == state, \"state_abr\"] = abr\n",
    "    # Create \"Location\" which concatenates county name and state abbreviation \n",
    "    \n",
    "    \n",
    "    covid_data[\"Location\"] = covid_data[\"location_name\"] + \", \" + \\\n",
    "        covid_data[\"state_abr\"]\n",
    "\n",
    "    return covid_data"
   ]
  },
  {
   "cell_type": "code",
   "execution_count": null,
   "id": "324907ce",
   "metadata": {},
   "outputs": [],
   "source": [
    "#covid_data = import_covid_data(FIPS_name = fips_name)\n",
    "covid_data = import_covid_data(FIPS_name = \"fips_code\")"
   ]
  },
  {
   "cell_type": "code",
   "execution_count": null,
   "id": "dba85d0c",
   "metadata": {
    "scrolled": true
   },
   "outputs": [],
   "source": [
    "covid_data"
   ]
  },
  {
   "cell_type": "code",
   "execution_count": null,
   "id": "ec527110",
   "metadata": {},
   "outputs": [],
   "source": [
    "#if \"data_processed\" not in locals():\n",
    "fips_name = \"fips_code\"\n",
    "#covid_filename = \"COVID19DataAP.csv\"\n",
    "# rename_FIPS matches map_data FIPS with COVID19 FIPS name\n",
    "map_data = import_geo_data(filename = \"countiesWithStatesAndPopulation.shp\",\n",
    "                index_col = \"Date\", FIPS_name= fips_name)\n",
    "covid_data = import_covid_data(filename = covid_filename, FIPS_name = fips_name)\n",
    "# dates will be used to create a geopandas DataFrame with multiindex "
   ]
  },
  {
   "cell_type": "code",
   "execution_count": null,
   "id": "39d1cd63",
   "metadata": {},
   "outputs": [],
   "source": [
    "def fips_sq_meter_conversion(value, conversion_type='mile', rounding = 0):\n",
    "    if conversion_type == 'acre':\n",
    "        # 1 square meter = 0.00024711 acres\n",
    "        conversion_value = round(value * 0.00024711, rounding)\n",
    "    else:\n",
    "        # 1 square meter = 0.00024711 acres\n",
    "        # 1 acre = 0.0015625 square miles\n",
    "        conversion_value = round(value * 0.00024711 * 0.0015625, rounding)\n",
    "    return conversion_value"
   ]
  },
  {
   "cell_type": "code",
   "execution_count": null,
   "id": "68458cfd",
   "metadata": {},
   "outputs": [],
   "source": [
    "map_data['Water Square Miles'] = fips_sq_meter_conversion(map_data['AWATER'],'mile',1)\n",
    "map_data['Land Square Miles'] = fips_sq_meter_conversion(map_data['ALAND'],'mile',1)"
   ]
  },
  {
   "cell_type": "code",
   "execution_count": null,
   "id": "58c8df31",
   "metadata": {},
   "outputs": [],
   "source": [
    "map_data\n"
   ]
  },
  {
   "cell_type": "code",
   "execution_count": null,
   "id": "d4be2cba",
   "metadata": {
    "scrolled": true
   },
   "outputs": [],
   "source": [
    "fig, ax = plt.subplots(figsize = (20,12))\n",
    "map_data[map_data['state'] == 'Florida'].plot(column=\"Land Square Miles\", ax=ax, legend=True)"
   ]
  },
  {
   "cell_type": "code",
   "execution_count": null,
   "id": "85896233",
   "metadata": {},
   "outputs": [],
   "source": [
    "covid_data.columns"
   ]
  },
  {
   "cell_type": "code",
   "execution_count": null,
   "id": "bf90da33",
   "metadata": {
    "scrolled": true
   },
   "outputs": [],
   "source": [
    "covid_data[covid_data['state']=='North Dakota'].groupby('date').sum().loc[:,['new_cases', 'new_deaths']]"
   ]
  },
  {
   "cell_type": "markdown",
   "id": "bc43aaa6",
   "metadata": {},
   "source": [
    "## Insert the screen snip for covid deaths and a rolling 7 day average"
   ]
  },
  {
   "cell_type": "code",
   "execution_count": null,
   "id": "8769b23b",
   "metadata": {
    "scrolled": true
   },
   "outputs": [],
   "source": [
    "covid_data[covid_data['state']=='North Dakota'].groupby('date').sum().loc[:,['new_cases', 'new_deaths']].rolling(7).plot.line()"
   ]
  },
  {
   "cell_type": "code",
   "execution_count": null,
   "id": "62f378c4",
   "metadata": {},
   "outputs": [],
   "source": [
    "covid_data"
   ]
  },
  {
   "cell_type": "code",
   "execution_count": null,
   "id": "0813bea3",
   "metadata": {},
   "outputs": [],
   "source": [
    "fig, ax = plt.subplots(figsize=(18,8),\n",
    "        subplot_kw = {'aspect': 'equal'})   \n",
    "plt.rcParams.update({\"font.size\": 30})\n",
    "plt.xticks(fontsize = 25)\n",
    "plt.yticks(fontsize = 25)\n",
    "key = \"Deaths per Million\"\n",
    "df = covid_data[covid_data.index.get_level_values(\"date\")== date]\n",
    "df.plot(ax=ax, cax = ax, column=key, linewidth=.5, \n",
    "             edgecolor='lightgrey')\n",
    "ax.set_title(str(date)[:10] + \"\\n\" + key)"
   ]
  },
  {
   "cell_type": "markdown",
   "id": "7628fa1f",
   "metadata": {},
   "source": [
    "### inset_axes for Alaska & Hawai'i in sub-window"
   ]
  },
  {
   "cell_type": "code",
   "execution_count": null,
   "id": "d8b87409",
   "metadata": {
    "scrolled": false
   },
   "outputs": [],
   "source": [
    "from mpl_toolkits.axes_grid.inset_locator import inset_axes\n",
    "fig, ax = plt.subplots(figsize = (24,16),subplot_kw = {\"aspect\":\"equal\"})\n",
    "    \n",
    "plt.rcParams.update({\"font.size\": 30})\n",
    "plt.xticks(fontsize = 25)\n",
    "plt.yticks(fontsize = 25)\n",
    "\n",
    "key = \"Deaths per Million\"\n",
    "\n",
    "# tilde is the NOT operator\n",
    "map_data = covid_map_data[covid_map_data.get_index_level_values(\"date\")==date]\n",
    "df = map_data[~map_data[\"state\"].str.contains(\"Alaska|Hawaii\")]\n",
    "\n",
    "#set up legend color bar\n",
    "cmap = cm.get_cmap('Reds',10)"
   ]
  },
  {
   "cell_type": "markdown",
   "id": "723f2dba",
   "metadata": {},
   "source": [
    "## UNEMPLOYMENT DATA"
   ]
  },
  {
   "cell_type": "code",
   "execution_count": null,
   "id": "b4079764",
   "metadata": {},
   "outputs": [],
   "source": [
    "u_data = pd.read_csv(\"countyUnemploymentData.csv\", encoding = \"latin1\", parse_dates = True, index_col=\"date\")\n",
    "\n",
    "# drop observations with missing fips codes\n",
    "# this reset_index drops the index, in favor of an integer(row number) index.\n",
    "u_data.reset_index(inplace = True)\n",
    "\n",
    "index = u_data[\"fips_code\"].dropna(axis = 0).index\n",
    "\n",
    "u_data = u_data.loc[index]\n",
    "u_data[\"fips_code\"] = u_data[\"fips_code\"].astype(int)\n",
    "u_data.set_index([\"fips_code\", \"date\"], inplace = True)"
   ]
  },
  {
   "cell_type": "code",
   "execution_count": null,
   "id": "3a64d320",
   "metadata": {
    "scrolled": true
   },
   "outputs": [],
   "source": [
    "u_data"
   ]
  },
  {
   "cell_type": "code",
   "execution_count": null,
   "id": "a0b108d9",
   "metadata": {},
   "outputs": [],
   "source": [
    "def select_data_within_bounds(data, minx, miny, maxx, maxy):\n",
    "    data = data[data.bounds[\"maxx\"] <= maxx]\n",
    "    data = data[data.bounds[\"maxy\"] <= maxy]\n",
    "    data = data[data.bounds[\"minx\"] >= minx]\n",
    "    data = data[data.bounds[\"miny\"] >= miny]\n",
    "    \n",
    "    return data"
   ]
  },
  {
   "cell_type": "code",
   "execution_count": null,
   "id": "be3d6a78",
   "metadata": {},
   "outputs": [],
   "source": [
    "# choose the dates\n",
    "dates = u_data.groupby(\"date\").mean().index\n",
    "u_data = create_merged_geo_dataframe(u_data, map_data, dates)"
   ]
  },
  {
   "cell_type": "code",
   "execution_count": null,
   "id": "fe4a9ca4",
   "metadata": {},
   "outputs": [],
   "source": [
    "# choose map bounds\n",
    "#if \"u_map_bounded\" not in locals():\n",
    "minx = -127\n",
    "miny = 23\n",
    "maxx = -66\n",
    "maxy = 50\n",
    "u_data = select_data_within_bounds(u_data, minx, miny, maxx, maxy)\n",
    "# u_map_bounded = True"
   ]
  },
  {
   "cell_type": "code",
   "execution_count": null,
   "id": "1278a14f",
   "metadata": {},
   "outputs": [],
   "source": []
  }
 ],
 "metadata": {
  "kernelspec": {
   "display_name": "Python 3 (ipykernel)",
   "language": "python",
   "name": "python3"
  },
  "language_info": {
   "codemirror_mode": {
    "name": "ipython",
    "version": 3
   },
   "file_extension": ".py",
   "mimetype": "text/x-python",
   "name": "python",
   "nbconvert_exporter": "python",
   "pygments_lexer": "ipython3",
   "version": "3.8.8"
  }
 },
 "nbformat": 4,
 "nbformat_minor": 5
}
