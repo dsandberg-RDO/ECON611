{
 "cells": [
  {
   "cell_type": "code",
   "execution_count": 1,
   "id": "489a0065",
   "metadata": {},
   "outputs": [],
   "source": [
    "# Chapter 2 - working w/ lists"
   ]
  },
  {
   "cell_type": "code",
   "execution_count": 3,
   "id": "8a50c1bc",
   "metadata": {},
   "outputs": [
    {
     "name": "stdout",
     "output_type": "stream",
     "text": [
      "[]\n",
      "[1, 2, 3, 4, 5]\n",
      "[1.2, 2.3, 3.4, 5.6668]\n",
      "['Burbank', 'Umatilla', 'Hamlin']\n",
      "['Drew', 49, 5.11]\n"
     ]
    }
   ],
   "source": [
    "emptyList = []\n",
    "integerList = [1,2,3,4,5]\n",
    "floatList = [1.2, 2.3, 3.4, 5.6668]\n",
    "cultivars = [\"Burbank\", \"Umatilla\", \"Hamlin\"]\n",
    "mixedList = [\"Drew\", 49, 5.11]\n",
    "\n",
    "print(emptyList)\n",
    "print(integerList)\n",
    "print(floatList)\n",
    "print(cultivars)\n",
    "print(mixedList)"
   ]
  },
  {
   "cell_type": "code",
   "execution_count": 5,
   "id": "b0212c35",
   "metadata": {},
   "outputs": [
    {
     "data": {
      "text/plain": [
       "list"
      ]
     },
     "execution_count": 5,
     "metadata": {},
     "output_type": "execute_result"
    }
   ],
   "source": [
    "type(mixedList)"
   ]
  },
  {
   "cell_type": "code",
   "execution_count": 9,
   "id": "abac6058",
   "metadata": {},
   "outputs": [
    {
     "name": "stdout",
     "output_type": "stream",
     "text": [
      "5.6668\n",
      "5.6668\n"
     ]
    },
    {
     "data": {
      "text/plain": [
       "('Drew', str)"
      ]
     },
     "execution_count": 9,
     "metadata": {},
     "output_type": "execute_result"
    }
   ],
   "source": [
    "#\n",
    "print(floatList[3])\n",
    "\n",
    "# print last item in list\n",
    "print(floatList[len(floatList)-1])\n",
    "\n",
    "# print the list value and item type\n",
    "mixedList[0], type(mixedList[0])"
   ]
  },
  {
   "cell_type": "code",
   "execution_count": 14,
   "id": "d359377a",
   "metadata": {},
   "outputs": [
    {
     "data": {
      "text/plain": [
       "[5, 7.6, 'blue', 'Mary', 'x', 3.99, 0, 'Mary', 'x', 3.99, 0, 5, 7.6, 'blue']"
      ]
     },
     "execution_count": 14,
     "metadata": {},
     "output_type": "execute_result"
    }
   ],
   "source": [
    "# concatenate lists\n",
    "l1 = [5, 7.6, \"blue\"]\n",
    "l2 = [\"Mary\", \"x\", 3.99, 0]\n",
    "\n",
    "\n",
    "l12 = l1 + l2\n",
    "l12\n",
    "\n",
    "# append?\n",
    "\n",
    "l12 = l12 + l2 + l1\n",
    "l12"
   ]
  },
  {
   "cell_type": "code",
   "execution_count": 21,
   "id": "c9515954",
   "metadata": {},
   "outputs": [
    {
     "name": "stdout",
     "output_type": "stream",
     "text": [
      "M\n",
      "innes\n",
      "Minnes\n",
      "Minneso\n"
     ]
    }
   ],
   "source": [
    "word = 'Minnesota'\n",
    "\n",
    "#print first character of list... \"M\"\n",
    "print(word[0])\n",
    "\n",
    "#print 2, 3, 4, & 5 characters\n",
    "print(word[1:6])\n",
    "\n",
    "#print first 6 letters\n",
    "print(word[:6])\n",
    "\n",
    "#print all but last two items\n",
    "print(word[:-2])\n",
    "\n",
    "#print non-consecutive items of list\n"
   ]
  }
 ],
 "metadata": {
  "kernelspec": {
   "display_name": "Python 3",
   "language": "python",
   "name": "python3"
  },
  "language_info": {
   "codemirror_mode": {
    "name": "ipython",
    "version": 3
   },
   "file_extension": ".py",
   "mimetype": "text/x-python",
   "name": "python",
   "nbconvert_exporter": "python",
   "pygments_lexer": "ipython3",
   "version": "3.8.8"
  }
 },
 "nbformat": 4,
 "nbformat_minor": 5
}
