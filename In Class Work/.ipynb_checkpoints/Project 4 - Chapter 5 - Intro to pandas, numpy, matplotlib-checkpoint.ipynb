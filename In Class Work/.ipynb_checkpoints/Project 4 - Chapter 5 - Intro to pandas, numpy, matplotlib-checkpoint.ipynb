{
 "cells": [
  {
   "cell_type": "markdown",
   "id": "1b8671ee",
   "metadata": {},
   "source": [
    "## Intro to numpy"
   ]
  },
  {
   "cell_type": "code",
   "execution_count": 1,
   "id": "3b839342",
   "metadata": {},
   "outputs": [
    {
     "data": {
      "text/plain": [
       "array([1, 3, 5, 7, 9])"
      ]
     },
     "execution_count": 1,
     "metadata": {},
     "output_type": "execute_result"
    }
   ],
   "source": [
    "#arrays\n",
    "import numpy as np\n",
    "\n",
    "array = np.array([1,3,5,7,9])\n",
    "array"
   ]
  },
  {
   "cell_type": "code",
   "execution_count": 2,
   "id": "c4380b39",
   "metadata": {},
   "outputs": [
    {
     "name": "stdout",
     "output_type": "stream",
     "text": [
      "<class 'numpy.ndarray'>\n"
     ]
    }
   ],
   "source": [
    "print(type(array))"
   ]
  },
  {
   "cell_type": "code",
   "execution_count": 3,
   "id": "0d4e12d7",
   "metadata": {},
   "outputs": [
    {
     "name": "stdout",
     "output_type": "stream",
     "text": [
      "1 <class 'numpy.int32'>\n",
      "3 <class 'numpy.int32'>\n",
      "5 <class 'numpy.int32'>\n",
      "7 <class 'numpy.int32'>\n",
      "9 <class 'numpy.int32'>\n"
     ]
    }
   ],
   "source": [
    "for v in array:\n",
    "    print(v, type(v))"
   ]
  },
  {
   "cell_type": "markdown",
   "id": "4ad0da7a",
   "metadata": {},
   "source": [
    "## SEE spelling of 'arange'...\n",
    "It's not arrange, but just a single 'r' as in 'a range'"
   ]
  },
  {
   "cell_type": "code",
   "execution_count": 5,
   "id": "bc57db02",
   "metadata": {},
   "outputs": [
    {
     "data": {
      "text/plain": [
       "array([5, 7, 9])"
      ]
     },
     "execution_count": 5,
     "metadata": {},
     "output_type": "execute_result"
    }
   ],
   "source": [
    "#numpy supports ranges wiuth arrange in format np.arange(start, end, interval)\n",
    "array_range = np.arange(5,10,2)\n",
    "array_range"
   ]
  },
  {
   "cell_type": "code",
   "execution_count": 8,
   "id": "18123582",
   "metadata": {},
   "outputs": [
    {
     "data": {
      "text/plain": [
       "array([0, 2, 4, 6])"
      ]
     },
     "execution_count": 8,
     "metadata": {},
     "output_type": "execute_result"
    }
   ],
   "source": [
    "# increase array by 2\n",
    "array_by_2 = np.arange(0,8,2)\n",
    "array_by_2"
   ]
  },
  {
   "cell_type": "code",
   "execution_count": 10,
   "id": "3f9b7458",
   "metadata": {},
   "outputs": [
    {
     "data": {
      "text/plain": [
       "array([27, 24, 21, 18, 15, 12,  9,  6,  3])"
      ]
     },
     "execution_count": 10,
     "metadata": {},
     "output_type": "execute_result"
    }
   ],
   "source": [
    "# decrease by 3; note the order of larget to smallest in start, end numbers\n",
    "array_by_neg3 = np.arange(27,0,-3)\n",
    "array_by_neg3"
   ]
  },
  {
   "cell_type": "code",
   "execution_count": 7,
   "id": "01ee0d52",
   "metadata": {},
   "outputs": [
    {
     "name": "stdout",
     "output_type": "stream",
     "text": [
      "float list as list\n",
      "1.0 <class 'float'>\n",
      "2.0 <class 'float'>\n",
      "3.0 <class 'float'>\n",
      "5.0 <class 'float'>\n",
      "\n",
      "float list as an array\n",
      "1.0 <class 'numpy.float64'>\n",
      "2.0 <class 'numpy.float64'>\n",
      "3.0 <class 'numpy.float64'>\n",
      "5.0 <class 'numpy.float64'>\n"
     ]
    }
   ],
   "source": [
    "float_list = [1., 2., 3.,5.]\n",
    "float_array = np.array(float_list)\n",
    "\n",
    "print(\"float list as list\")\n",
    "for v in float_list:\n",
    "\n",
    "    print(v, type(v))\n",
    "print()\n",
    "\n",
    "print(\"float list as an array\")\n",
    "for v in float_array:\n",
    "    print(v, type(v))"
   ]
  },
  {
   "cell_type": "markdown",
   "id": "daaa79b4",
   "metadata": {},
   "source": [
    "## multidimensional lists & arrays - two-dimensional arrays\n",
    "Or an array of arrays ;)"
   ]
  },
  {
   "cell_type": "code",
   "execution_count": 13,
   "id": "0e1445ca",
   "metadata": {
    "scrolled": true
   },
   "outputs": [
    {
     "name": "stdout",
     "output_type": "stream",
     "text": [
      "[2, 3, 4, 5]\n",
      "2\n",
      "3\n",
      "4\n",
      "5\n",
      "[9, 8, 7, 6]\n",
      "9\n",
      "8\n",
      "7\n",
      "6\n",
      "[1, 3, 6, 9]\n",
      "1\n",
      "3\n",
      "6\n",
      "9\n"
     ]
    }
   ],
   "source": [
    "two_dim_list = [[2,3,4,5], [9,8,7,6], [1,3,6,9]]\n",
    "\n",
    "for outer in two_dim_list:\n",
    "    print(outer)\n",
    "    for inner in outer:\n",
    "        print(inner)"
   ]
  },
  {
   "cell_type": "code",
   "execution_count": 25,
   "id": "d9decb5b",
   "metadata": {},
   "outputs": [
    {
     "ename": "NameError",
     "evalue": "name 'float64' is not defined",
     "output_type": "error",
     "traceback": [
      "\u001b[1;31m---------------------------------------------------------------------------\u001b[0m",
      "\u001b[1;31mNameError\u001b[0m                                 Traceback (most recent call last)",
      "\u001b[1;32m<ipython-input-25-896aa9aed76c>\u001b[0m in \u001b[0;36m<module>\u001b[1;34m\u001b[0m\n\u001b[0;32m      1\u001b[0m \u001b[1;31m# mutate two_dim_list to two_dim_array\u001b[0m\u001b[1;33m\u001b[0m\u001b[1;33m\u001b[0m\u001b[1;33m\u001b[0m\u001b[0m\n\u001b[1;32m----> 2\u001b[1;33m \u001b[0mtwo_dim_array\u001b[0m \u001b[1;33m=\u001b[0m \u001b[0mnp\u001b[0m\u001b[1;33m.\u001b[0m\u001b[0marray\u001b[0m\u001b[1;33m(\u001b[0m\u001b[0mtwo_dim_list\u001b[0m\u001b[1;33m,\u001b[0m \u001b[0mdtype\u001b[0m\u001b[1;33m=\u001b[0m\u001b[0mfloat64\u001b[0m\u001b[1;33m)\u001b[0m\u001b[1;33m\u001b[0m\u001b[1;33m\u001b[0m\u001b[0m\n\u001b[0m\u001b[0;32m      3\u001b[0m \u001b[0mtwo_dim_array\u001b[0m\u001b[1;33m\u001b[0m\u001b[1;33m\u001b[0m\u001b[0m\n",
      "\u001b[1;31mNameError\u001b[0m: name 'float64' is not defined"
     ]
    }
   ],
   "source": [
    "# mutate two_dim_list to two_dim_array\n",
    "two_dim_array = np.array(two_dim_list, dtype=float)\n",
    "two_dim_array"
   ]
  },
  {
   "cell_type": "code",
   "execution_count": 16,
   "id": "3254456a",
   "metadata": {
    "scrolled": true
   },
   "outputs": [
    {
     "name": "stdout",
     "output_type": "stream",
     "text": [
      "array: [2 3 4 5]\n",
      "array value: 2\n",
      "array value: 3\n",
      "array value: 4\n",
      "array value: 5\n",
      "array: [9 8 7 6]\n",
      "array value: 9\n",
      "array value: 8\n",
      "array value: 7\n",
      "array value: 6\n",
      "array: [1 3 6 9]\n",
      "array value: 1\n",
      "array value: 3\n",
      "array value: 6\n",
      "array value: 9\n"
     ]
    }
   ],
   "source": [
    "for array in two_dim_array:\n",
    "    print(\"array:\",array)\n",
    "    for value in array:\n",
    "        print(\"array value:\",value)"
   ]
  },
  {
   "cell_type": "code",
   "execution_count": 22,
   "id": "f3b8feb5",
   "metadata": {},
   "outputs": [
    {
     "data": {
      "text/plain": [
       "array([[[0., 0.],\n",
       "        [0., 0.],\n",
       "        [0., 0.],\n",
       "        [0., 0.]],\n",
       "\n",
       "       [[0., 0.],\n",
       "        [0., 0.],\n",
       "        [0., 0.],\n",
       "        [0., 0.]]])"
      ]
     },
     "execution_count": 22,
     "metadata": {},
     "output_type": "execute_result"
    }
   ],
   "source": [
    "# initialize an empty or zeros array; floats\n",
    "# use the dtype argument in np.array to set a different daeta type (e.g. int, float, etc.)\n",
    "float_zeros_array = np.zeros((2,4,2))\n",
    "float_zeros_array"
   ]
  },
  {
   "cell_type": "code",
   "execution_count": 23,
   "id": "4bfda228",
   "metadata": {},
   "outputs": [
    {
     "data": {
      "text/plain": [
       "array([[55,  3,  4,  5],\n",
       "       [ 9,  2,  7,  6],\n",
       "       [ 1,  3,  3,  9]])"
      ]
     },
     "execution_count": 23,
     "metadata": {},
     "output_type": "execute_result"
    }
   ],
   "source": [
    "#Changing the values of elements within an array\n",
    "two_dim_array[0][0] = 55\n",
    "two_dim_array[1][1] = 2\n",
    "two_dim_array[2][2] = 3\n",
    "two_dim_array"
   ]
  },
  {
   "cell_type": "markdown",
   "id": "29baccf9",
   "metadata": {},
   "source": [
    "## Logging Data"
   ]
  },
  {
   "cell_type": "code",
   "execution_count": 26,
   "id": "1b39b6fe",
   "metadata": {},
   "outputs": [
    {
     "data": {
      "text/plain": [
       "1.0"
      ]
     },
     "execution_count": 26,
     "metadata": {},
     "output_type": "execute_result"
    }
   ],
   "source": [
    "import numpy as np\n",
    "np.log(np.e)"
   ]
  },
  {
   "cell_type": "code",
   "execution_count": 28,
   "id": "d04315a7",
   "metadata": {},
   "outputs": [
    {
     "data": {
      "text/plain": [
       "2.0"
      ]
     },
     "execution_count": 28,
     "metadata": {},
     "output_type": "execute_result"
    }
   ],
   "source": [
    "np.log10(100)"
   ]
  },
  {
   "cell_type": "code",
   "execution_count": 31,
   "id": "940d569d",
   "metadata": {
    "scrolled": true
   },
   "outputs": [
    {
     "name": "stdout",
     "output_type": "stream",
     "text": [
      "10 1.0\n",
      "20 1.3010299956639813\n",
      "30 1.4771212547196624\n",
      "40 1.6020599913279623\n",
      "50 1.6989700043360187\n",
      "60 1.7781512503836436\n",
      "70 1.845098040014257\n",
      "80 1.9030899869919435\n",
      "90 1.954242509439325\n",
      "100 2.0\n",
      "110 2.041392685158225\n",
      "120 2.0791812460476247\n",
      "130 2.113943352306837\n",
      "140 2.146128035678238\n",
      "150 2.1760912590556813\n",
      "160 2.2041199826559246\n",
      "170 2.230448921378274\n",
      "180 2.255272505103306\n",
      "190 2.278753600952829\n",
      "200 2.3010299956639813\n",
      "210 2.322219294733919\n",
      "220 2.342422680822206\n",
      "230 2.361727836017593\n",
      "240 2.380211241711606\n",
      "250 2.3979400086720375\n",
      "260 2.4149733479708178\n",
      "270 2.4313637641589874\n",
      "280 2.4471580313422194\n",
      "290 2.462397997898956\n",
      "300 2.4771212547196626\n",
      "310 2.4913616938342726\n",
      "320 2.505149978319906\n",
      "330 2.5185139398778875\n",
      "340 2.531478917042255\n",
      "350 2.5440680443502757\n",
      "360 2.5563025007672873\n",
      "370 2.568201724066995\n",
      "380 2.57978359661681\n",
      "390 2.591064607026499\n",
      "400 2.6020599913279625\n",
      "410 2.6127838567197355\n",
      "420 2.6232492903979003\n",
      "430 2.6334684555795866\n",
      "440 2.6434526764861874\n",
      "450 2.6532125137753435\n",
      "460 2.662757831681574\n",
      "470 2.6720978579357175\n",
      "480 2.681241237375587\n",
      "490 2.690196080028514\n",
      "500 2.6989700043360187\n",
      "510 2.7075701760979363\n",
      "520 2.716003343634799\n",
      "530 2.724275869600789\n",
      "540 2.7323937598229686\n",
      "550 2.7403626894942437\n",
      "560 2.7481880270062002\n",
      "570 2.7558748556724915\n",
      "580 2.7634279935629373\n",
      "590 2.7708520116421442\n",
      "600 2.7781512503836434\n",
      "610 2.785329835010767\n",
      "620 2.792391689498254\n",
      "630 2.7993405494535817\n",
      "640 2.806179973983887\n",
      "650 2.8129133566428557\n",
      "660 2.8195439355418688\n",
      "670 2.8260748027008264\n",
      "680 2.832508912706236\n",
      "690 2.838849090737255\n",
      "700 2.845098040014257\n",
      "710 2.8512583487190755\n",
      "720 2.8573324964312685\n",
      "730 2.863322860120456\n",
      "740 2.8692317197309762\n",
      "750 2.8750612633917\n",
      "760 2.8808135922807914\n",
      "770 2.886490725172482\n",
      "780 2.8920946026904804\n",
      "790 2.8976270912904414\n",
      "800 2.9030899869919438\n",
      "810 2.90848501887865\n",
      "820 2.9138138523837167\n",
      "830 2.9190780923760737\n",
      "840 2.9242792860618816\n",
      "850 2.929418925714293\n",
      "860 2.934498451243568\n",
      "870 2.9395192526186187\n",
      "880 2.9444826721501687\n",
      "890 2.949390006644913\n",
      "900 2.9542425094393248\n",
      "910 2.9590413923210934\n",
      "920 2.963787827345555\n",
      "930 2.9684829485539352\n",
      "940 2.9731278535996988\n",
      "950 2.9777236052888476\n",
      "960 2.9822712330395684\n",
      "970 2.9867717342662448\n",
      "980 2.9912260756924947\n",
      "990 2.99563519459755\n",
      "1000 3.0\n"
     ]
    }
   ],
   "source": [
    "for i in range(10,1001,10):\n",
    "    print(i, np.log10(i))"
   ]
  },
  {
   "cell_type": "markdown",
   "id": "8ec40716",
   "metadata": {},
   "source": [
    "## boolean indexing\n",
    "\n",
    "creates a T/F index to aid in exclusion/inclusion"
   ]
  },
  {
   "cell_type": "code",
   "execution_count": 5,
   "id": "3f50452f",
   "metadata": {
    "scrolled": true
   },
   "outputs": [
    {
     "data": {
      "text/plain": [
       "[6.7449179169893885,\n",
       " 7.0874766905334,\n",
       " 5.876966666322424,\n",
       " 3.3757230339196465,\n",
       " 3.201087195595853,\n",
       " 6.693241722880218,\n",
       " 8.878425077468727,\n",
       " 5.495474532340382,\n",
       " 8.175703463199053,\n",
       " 3.7642306573473427]"
      ]
     },
     "execution_count": 5,
     "metadata": {},
     "output_type": "execute_result"
    }
   ],
   "source": [
    "import random\n",
    "\n",
    "rand_list = [random.random() * 10 for i in range(10)]\n",
    "rand_list"
   ]
  },
  {
   "cell_type": "code",
   "execution_count": 6,
   "id": "40cd71cc",
   "metadata": {},
   "outputs": [
    {
     "data": {
      "text/plain": [
       "[0.4234553036568989,\n",
       " 6.604449602284696,\n",
       " 5.1645828087767605,\n",
       " 7.110042134828235,\n",
       " 2.797962220560344,\n",
       " 1.9818096821634335]"
      ]
     },
     "execution_count": 6,
     "metadata": {},
     "output_type": "execute_result"
    }
   ],
   "source": [
    "subset_random = [random.random() * 10 for i in range(10) if i > 3]\n",
    "subset_random"
   ]
  },
  {
   "cell_type": "code",
   "execution_count": 7,
   "id": "4f7b6595",
   "metadata": {
    "scrolled": false
   },
   "outputs": [
    {
     "data": {
      "text/plain": [
       "[6.7449179169893885,\n",
       " 7.0874766905334,\n",
       " 5.876966666322424,\n",
       " 6.693241722880218,\n",
       " 8.878425077468727,\n",
       " 5.495474532340382,\n",
       " 8.175703463199053]"
      ]
     },
     "execution_count": 7,
     "metadata": {},
     "output_type": "execute_result"
    }
   ],
   "source": [
    "subset = [val for val in rand_list if val > 5]\n",
    "subset"
   ]
  },
  {
   "cell_type": "code",
   "execution_count": 10,
   "id": "011a4237",
   "metadata": {},
   "outputs": [
    {
     "data": {
      "text/plain": [
       "array([False,  True, False, False, False, False,  True])"
      ]
     },
     "execution_count": 10,
     "metadata": {},
     "output_type": "execute_result"
    }
   ],
   "source": [
    "#boolean indexing w/ numpby\n",
    "import numpy as np\n",
    "\n",
    "np_rand = np.random.randn(7) * 10\n",
    "np_rand > 0"
   ]
  },
  {
   "cell_type": "code",
   "execution_count": 11,
   "id": "a9b98d1b",
   "metadata": {},
   "outputs": [
    {
     "data": {
      "text/plain": [
       "array([4.91487651, 5.95191239])"
      ]
     },
     "execution_count": 11,
     "metadata": {},
     "output_type": "execute_result"
    }
   ],
   "source": [
    "np_rand[np_rand > 0]"
   ]
  },
  {
   "cell_type": "markdown",
   "id": "80847c8e",
   "metadata": {},
   "source": [
    "## Data dictionaries & pandas dataframes"
   ]
  },
  {
   "cell_type": "code",
   "execution_count": 13,
   "id": "d57fa81a",
   "metadata": {},
   "outputs": [
    {
     "data": {
      "text/plain": [
       "{'0 to 9': array([0, 1, 2, 3, 4, 5, 6, 7, 8, 9]),\n",
       " 'unos': array([1., 1., 1., 1., 1., 1., 1., 1., 1., 1.]),\n",
       " 'zeros': array([0., 0., 0., 0., 0., 0., 0., 0., 0., 0.])}"
      ]
     },
     "execution_count": 13,
     "metadata": {},
     "output_type": "execute_result"
    }
   ],
   "source": [
    "dict = {\"0 to 9\":np.arange(10),\n",
    "       \"unos\":np.ones(10),\n",
    "       \"zeros\": np.zeros(10)}\n",
    "\n",
    "dict"
   ]
  },
  {
   "cell_type": "code",
   "execution_count": 15,
   "id": "ec182204",
   "metadata": {},
   "outputs": [
    {
     "name": "stdout",
     "output_type": "stream",
     "text": [
      "0 to 9\n",
      "[0 1 2 3 4 5 6 7 8 9]\n",
      "unos\n",
      "[1. 1. 1. 1. 1. 1. 1. 1. 1. 1.]\n",
      "zeros\n",
      "[0. 0. 0. 0. 0. 0. 0. 0. 0. 0.]\n"
     ]
    }
   ],
   "source": [
    "for key, val in dict.items():\n",
    "    print(key)\n",
    "    print(val)"
   ]
  },
  {
   "cell_type": "code",
   "execution_count": 16,
   "id": "c15214d5",
   "metadata": {},
   "outputs": [
    {
     "name": "stdout",
     "output_type": "stream",
     "text": [
      "first two elements of key 0\n",
      "last value in array: [0 1 2 3 4 5 6 7 8]\n",
      "first two elements of key u\n",
      "last value in array: [1. 1. 1. 1. 1. 1. 1. 1. 1.]\n",
      "first two elements of key z\n",
      "last value in array: [0. 0. 0. 0. 0. 0. 0. 0. 0.]\n"
     ]
    }
   ],
   "source": [
    "#slice of an array:\n",
    "for key, val in dict.items():\n",
    "    print(\"first two elements of key\", key[0:1])\n",
    "    print(\"last value in array:\", val[:-1])"
   ]
  },
  {
   "cell_type": "code",
   "execution_count": 17,
   "id": "cf5f469d",
   "metadata": {},
   "outputs": [],
   "source": [
    "## Pandas datafrmes"
   ]
  },
  {
   "cell_type": "code",
   "execution_count": 21,
   "id": "b6684e1a",
   "metadata": {},
   "outputs": [
    {
     "data": {
      "text/plain": [
       "0    0\n",
       "1    1\n",
       "2    2\n",
       "3    3\n",
       "4    4\n",
       "5    5\n",
       "6    6\n",
       "7    7\n",
       "8    8\n",
       "9    9\n",
       "dtype: int32"
      ]
     },
     "execution_count": 21,
     "metadata": {},
     "output_type": "execute_result"
    }
   ],
   "source": [
    "import pandas as pd\n",
    "df_array = pd.Series(np.arange(10))\n",
    "df_array"
   ]
  },
  {
   "cell_type": "code",
   "execution_count": 25,
   "id": "f5ebcad0",
   "metadata": {},
   "outputs": [
    {
     "data": {
      "text/plain": [
       "0    0\n",
       "1    1\n",
       "2    2\n",
       "3    3\n",
       "4    4\n",
       "dtype: int32"
      ]
     },
     "execution_count": 25,
     "metadata": {},
     "output_type": "execute_result"
    }
   ],
   "source": [
    "# iloc refers to ROW NUMBER\n",
    "\n",
    "df_array.iloc[0:5]"
   ]
  },
  {
   "cell_type": "code",
   "execution_count": 28,
   "id": "f518b2de",
   "metadata": {},
   "outputs": [
    {
     "data": {
      "text/plain": [
       "0    0\n",
       "1    1\n",
       "dtype: int32"
      ]
     },
     "execution_count": 28,
     "metadata": {},
     "output_type": "execute_result"
    }
   ],
   "source": [
    "#loc refers to ROW NAME\n",
    "df_array.loc[0:1]"
   ]
  },
  {
   "cell_type": "code",
   "execution_count": 34,
   "id": "e9692546",
   "metadata": {},
   "outputs": [
    {
     "data": {
      "text/plain": [
       "{'GDP': {}, 'Money': {}, 'Price Level': {}}"
      ]
     },
     "execution_count": 34,
     "metadata": {},
     "output_type": "execute_result"
    }
   ],
   "source": [
    "macro_dict = {\"GDP\":{},\n",
    "             \"Money\":{},\n",
    "             \"Price Level\":{}}\n",
    "macro_dict"
   ]
  },
  {
   "cell_type": "code",
   "execution_count": 35,
   "id": "1618c9cb",
   "metadata": {
    "scrolled": true
   },
   "outputs": [
    {
     "data": {
      "text/plain": [
       "{'GDP': {1950: 1305.8079668174917,\n",
       "  1951: 9497.606944645404,\n",
       "  1952: 335.4737940284047,\n",
       "  1953: 7974.535928028928,\n",
       "  1954: 5253.71997698704,\n",
       "  1955: 4446.029336710009,\n",
       "  1956: 3793.8129204632774,\n",
       "  1957: 8300.152162558752,\n",
       "  1958: 3187.445301585404,\n",
       "  1959: 2582.9712980887452,\n",
       "  1960: 8847.545396541771,\n",
       "  1961: 7635.784452339826,\n",
       "  1962: 974.7423063979633,\n",
       "  1963: 3122.337472460799,\n",
       "  1964: 170.17351523489822,\n",
       "  1965: 4542.9273804930235,\n",
       "  1966: 9216.910902764917,\n",
       "  1967: 3625.5484569690852,\n",
       "  1968: 8890.697263611757,\n",
       "  1969: 4673.901355191507,\n",
       "  1970: 2427.7250732776156,\n",
       "  1971: 5802.396201367543,\n",
       "  1972: 7071.491674911282,\n",
       "  1973: 7745.886691593428,\n",
       "  1974: 3264.2236888746033,\n",
       "  1975: 6423.943338727939,\n",
       "  1976: 9399.472892552356,\n",
       "  1977: 5115.42156775414,\n",
       "  1978: 463.89187189122435,\n",
       "  1979: 4489.737542466253,\n",
       "  1980: 3717.9488262246496,\n",
       "  1981: 3268.8506051249246,\n",
       "  1982: 5314.756608566622,\n",
       "  1983: 9622.92809110271,\n",
       "  1984: 9544.8005800892,\n",
       "  1985: 2419.500152835237,\n",
       "  1986: 6462.2886754649935,\n",
       "  1987: 6615.769426990386,\n",
       "  1988: 8605.593947194333,\n",
       "  1989: 6719.24675813074,\n",
       "  1990: 8692.824151856721,\n",
       "  1991: 8388.150039600192,\n",
       "  1992: 3707.733956839031,\n",
       "  1993: 6204.693662267025,\n",
       "  1994: 4971.057991109926,\n",
       "  1995: 227.50151753105462,\n",
       "  1996: 3514.1025332876084,\n",
       "  1997: 9609.411707742485,\n",
       "  1998: 8737.083729020693,\n",
       "  1999: 5136.417368779988,\n",
       "  2000: 6050.223895812258,\n",
       "  2001: 8618.387556259284,\n",
       "  2002: 5900.811364513983,\n",
       "  2003: 5885.973219399959,\n",
       "  2004: 3606.9723585036595,\n",
       "  2005: 2511.2645468764604,\n",
       "  2006: 9578.273096661387,\n",
       "  2007: 8594.329820954361,\n",
       "  2008: 8373.741616521569,\n",
       "  2009: 7494.473871213804,\n",
       "  2010: 827.9875945783366,\n",
       "  2011: 9513.658030410039,\n",
       "  2012: 9148.861393603518,\n",
       "  2013: 1858.1858244709936,\n",
       "  2014: 6703.980778476251,\n",
       "  2015: 4517.128164126977,\n",
       "  2016: 5997.099592677169,\n",
       "  2017: 1824.3275214467503},\n",
       " 'Money': {1950: 2526.0438310161226,\n",
       "  1951: 5107.448106836608,\n",
       "  1952: 9038.685288598117,\n",
       "  1953: 3634.557077766627,\n",
       "  1954: 2371.5611836079242,\n",
       "  1955: 6037.842619098059,\n",
       "  1956: 4929.547562460188,\n",
       "  1957: 9470.3606536103,\n",
       "  1958: 7847.451151131117,\n",
       "  1959: 7120.244389912838,\n",
       "  1960: 5790.722730514059,\n",
       "  1961: 4252.749028396361,\n",
       "  1962: 9092.445727764352,\n",
       "  1963: 9793.774329488413,\n",
       "  1964: 7435.821423123613,\n",
       "  1965: 8233.976696501371,\n",
       "  1966: 702.594470143566,\n",
       "  1967: 686.4715940131493,\n",
       "  1968: 1927.4342473296213,\n",
       "  1969: 9755.524496650496,\n",
       "  1970: 299.10542482839196,\n",
       "  1971: 5533.503971576944,\n",
       "  1972: 1560.3731635675488,\n",
       "  1973: 1326.2925523087454,\n",
       "  1974: 284.4620202447257,\n",
       "  1975: 1119.1429658498964,\n",
       "  1976: 8795.151580537795,\n",
       "  1977: 7212.352193673179,\n",
       "  1978: 8882.778167275454,\n",
       "  1979: 6326.780753588642,\n",
       "  1980: 6009.798510097933,\n",
       "  1981: 8160.711097412284,\n",
       "  1982: 1456.1176796355612,\n",
       "  1983: 4968.646273806351,\n",
       "  1984: 8472.648940534344,\n",
       "  1985: 2133.6807971651706,\n",
       "  1986: 6870.449409148695,\n",
       "  1987: 642.0418566553798,\n",
       "  1988: 8601.36744288988,\n",
       "  1989: 121.88005646167844,\n",
       "  1990: 2776.9447572819204,\n",
       "  1991: 7818.994166929992,\n",
       "  1992: 5380.303932171137,\n",
       "  1993: 7867.881350451328,\n",
       "  1994: 2882.857143125207,\n",
       "  1995: 8898.559708784203,\n",
       "  1996: 4939.544884439982,\n",
       "  1997: 1623.4654579269447,\n",
       "  1998: 8158.0214594575,\n",
       "  1999: 6148.599596897017,\n",
       "  2000: 6985.621140331818,\n",
       "  2001: 3202.873529652138,\n",
       "  2002: 9201.758837854344,\n",
       "  2003: 2198.929941537641,\n",
       "  2004: 3498.0298571598155,\n",
       "  2005: 5914.978467695019,\n",
       "  2006: 5287.093376583765,\n",
       "  2007: 8722.635586069538,\n",
       "  2008: 4575.461597161079,\n",
       "  2009: 6130.341439737847,\n",
       "  2010: 5941.034900577813,\n",
       "  2011: 789.1417640373267,\n",
       "  2012: 8453.482422841535,\n",
       "  2013: 7992.766837959916,\n",
       "  2014: 3528.196526540799,\n",
       "  2015: 5770.699889173423,\n",
       "  2016: 3828.825372038295,\n",
       "  2017: 212.15584672161003},\n",
       " 'Price Level': {1950: 7590.067715001135,\n",
       "  1951: 9921.13775719118,\n",
       "  1952: 7855.900682032019,\n",
       "  1953: 2837.007936279683,\n",
       "  1954: 525.0654049351589,\n",
       "  1955: 4851.8260195636085,\n",
       "  1956: 6061.316363633643,\n",
       "  1957: 78.57818718716825,\n",
       "  1958: 5788.255167130758,\n",
       "  1959: 9138.87979391573,\n",
       "  1960: 3503.1642652298187,\n",
       "  1961: 5302.261265231846,\n",
       "  1962: 5782.642765846731,\n",
       "  1963: 9031.956039038529,\n",
       "  1964: 9560.101436426501,\n",
       "  1965: 4565.011456201955,\n",
       "  1966: 125.49056681263492,\n",
       "  1967: 9672.888416349651,\n",
       "  1968: 7270.230095201755,\n",
       "  1969: 4834.404640664858,\n",
       "  1970: 9495.678974526201,\n",
       "  1971: 7881.078212394444,\n",
       "  1972: 3579.747492676366,\n",
       "  1973: 3696.8980419552,\n",
       "  1974: 7372.908846030704,\n",
       "  1975: 851.4799915287896,\n",
       "  1976: 1905.5686165280106,\n",
       "  1977: 8690.251977043008,\n",
       "  1978: 7029.539912098344,\n",
       "  1979: 8603.308548781,\n",
       "  1980: 4654.9106522449965,\n",
       "  1981: 2722.8604143179914,\n",
       "  1982: 881.9662922041516,\n",
       "  1983: 6240.683227519516,\n",
       "  1984: 4116.6387211173105,\n",
       "  1985: 5880.96247687605,\n",
       "  1986: 2024.997735679669,\n",
       "  1987: 8161.594952956865,\n",
       "  1988: 4698.6361445149905,\n",
       "  1989: 5062.650230031323,\n",
       "  1990: 2305.8847630500823,\n",
       "  1991: 8845.568186127852,\n",
       "  1992: 6860.501966204001,\n",
       "  1993: 5691.709703428738,\n",
       "  1994: 2260.620546375215,\n",
       "  1995: 9484.453211828291,\n",
       "  1996: 9672.302418376052,\n",
       "  1997: 244.9109349910439,\n",
       "  1998: 6817.718538053815,\n",
       "  1999: 9865.982678450266,\n",
       "  2000: 4092.474044569755,\n",
       "  2001: 7545.31650110931,\n",
       "  2002: 8409.103230321347,\n",
       "  2003: 7993.76053765027,\n",
       "  2004: 6676.7930128758335,\n",
       "  2005: 4455.0828441178055,\n",
       "  2006: 5720.168009471217,\n",
       "  2007: 3616.611156583763,\n",
       "  2008: 1848.9525464438982,\n",
       "  2009: 6736.900889639374,\n",
       "  2010: 3366.389822308861,\n",
       "  2011: 3859.9937028985164,\n",
       "  2012: 2280.6361976303356,\n",
       "  2013: 1065.97276617849,\n",
       "  2014: 7378.029420480289,\n",
       "  2015: 3079.832206191864,\n",
       "  2016: 4369.227985584442,\n",
       "  2017: 3694.1378143769157}}"
      ]
     },
     "execution_count": 35,
     "metadata": {},
     "output_type": "execute_result"
    }
   ],
   "source": [
    "for key in macro_dict:\n",
    "    for i in range(1950,2018):\n",
    "        macro_dict[key][i] = np.random.random()*10000\n",
    "        \n",
    "macro_dict"
   ]
  },
  {
   "cell_type": "code",
   "execution_count": 36,
   "id": "044cef11",
   "metadata": {
    "scrolled": true
   },
   "outputs": [
    {
     "data": {
      "text/html": [
       "<div>\n",
       "<style scoped>\n",
       "    .dataframe tbody tr th:only-of-type {\n",
       "        vertical-align: middle;\n",
       "    }\n",
       "\n",
       "    .dataframe tbody tr th {\n",
       "        vertical-align: top;\n",
       "    }\n",
       "\n",
       "    .dataframe thead th {\n",
       "        text-align: right;\n",
       "    }\n",
       "</style>\n",
       "<table border=\"1\" class=\"dataframe\">\n",
       "  <thead>\n",
       "    <tr style=\"text-align: right;\">\n",
       "      <th></th>\n",
       "      <th>GDP</th>\n",
       "      <th>Money</th>\n",
       "      <th>Price Level</th>\n",
       "    </tr>\n",
       "  </thead>\n",
       "  <tbody>\n",
       "    <tr>\n",
       "      <th>1950</th>\n",
       "      <td>1305.807967</td>\n",
       "      <td>2526.043831</td>\n",
       "      <td>7590.067715</td>\n",
       "    </tr>\n",
       "    <tr>\n",
       "      <th>1951</th>\n",
       "      <td>9497.606945</td>\n",
       "      <td>5107.448107</td>\n",
       "      <td>9921.137757</td>\n",
       "    </tr>\n",
       "    <tr>\n",
       "      <th>1952</th>\n",
       "      <td>335.473794</td>\n",
       "      <td>9038.685289</td>\n",
       "      <td>7855.900682</td>\n",
       "    </tr>\n",
       "    <tr>\n",
       "      <th>1953</th>\n",
       "      <td>7974.535928</td>\n",
       "      <td>3634.557078</td>\n",
       "      <td>2837.007936</td>\n",
       "    </tr>\n",
       "    <tr>\n",
       "      <th>1954</th>\n",
       "      <td>5253.719977</td>\n",
       "      <td>2371.561184</td>\n",
       "      <td>525.065405</td>\n",
       "    </tr>\n",
       "    <tr>\n",
       "      <th>...</th>\n",
       "      <td>...</td>\n",
       "      <td>...</td>\n",
       "      <td>...</td>\n",
       "    </tr>\n",
       "    <tr>\n",
       "      <th>2013</th>\n",
       "      <td>1858.185824</td>\n",
       "      <td>7992.766838</td>\n",
       "      <td>1065.972766</td>\n",
       "    </tr>\n",
       "    <tr>\n",
       "      <th>2014</th>\n",
       "      <td>6703.980778</td>\n",
       "      <td>3528.196527</td>\n",
       "      <td>7378.029420</td>\n",
       "    </tr>\n",
       "    <tr>\n",
       "      <th>2015</th>\n",
       "      <td>4517.128164</td>\n",
       "      <td>5770.699889</td>\n",
       "      <td>3079.832206</td>\n",
       "    </tr>\n",
       "    <tr>\n",
       "      <th>2016</th>\n",
       "      <td>5997.099593</td>\n",
       "      <td>3828.825372</td>\n",
       "      <td>4369.227986</td>\n",
       "    </tr>\n",
       "    <tr>\n",
       "      <th>2017</th>\n",
       "      <td>1824.327521</td>\n",
       "      <td>212.155847</td>\n",
       "      <td>3694.137814</td>\n",
       "    </tr>\n",
       "  </tbody>\n",
       "</table>\n",
       "<p>68 rows × 3 columns</p>\n",
       "</div>"
      ],
      "text/plain": [
       "              GDP        Money  Price Level\n",
       "1950  1305.807967  2526.043831  7590.067715\n",
       "1951  9497.606945  5107.448107  9921.137757\n",
       "1952   335.473794  9038.685289  7855.900682\n",
       "1953  7974.535928  3634.557078  2837.007936\n",
       "1954  5253.719977  2371.561184   525.065405\n",
       "...           ...          ...          ...\n",
       "2013  1858.185824  7992.766838  1065.972766\n",
       "2014  6703.980778  3528.196527  7378.029420\n",
       "2015  4517.128164  5770.699889  3079.832206\n",
       "2016  5997.099593  3828.825372  4369.227986\n",
       "2017  1824.327521   212.155847  3694.137814\n",
       "\n",
       "[68 rows x 3 columns]"
      ]
     },
     "execution_count": 36,
     "metadata": {},
     "output_type": "execute_result"
    }
   ],
   "source": [
    "df = pd.DataFrame(macro_dict)\n",
    "df"
   ]
  },
  {
   "cell_type": "code",
   "execution_count": 37,
   "id": "1abd4d91",
   "metadata": {},
   "outputs": [
    {
     "data": {
      "text/html": [
       "<div>\n",
       "<style scoped>\n",
       "    .dataframe tbody tr th:only-of-type {\n",
       "        vertical-align: middle;\n",
       "    }\n",
       "\n",
       "    .dataframe tbody tr th {\n",
       "        vertical-align: top;\n",
       "    }\n",
       "\n",
       "    .dataframe thead th {\n",
       "        text-align: right;\n",
       "    }\n",
       "</style>\n",
       "<table border=\"1\" class=\"dataframe\">\n",
       "  <thead>\n",
       "    <tr style=\"text-align: right;\">\n",
       "      <th></th>\n",
       "      <th>GDP</th>\n",
       "      <th>Money</th>\n",
       "      <th>Price Level</th>\n",
       "      <th>Velocity</th>\n",
       "      <th>Real GDP</th>\n",
       "    </tr>\n",
       "  </thead>\n",
       "  <tbody>\n",
       "    <tr>\n",
       "      <th>1950</th>\n",
       "      <td>1305.807967</td>\n",
       "      <td>2526.043831</td>\n",
       "      <td>7590.067715</td>\n",
       "      <td>0.516938</td>\n",
       "      <td>0.172042</td>\n",
       "    </tr>\n",
       "    <tr>\n",
       "      <th>1951</th>\n",
       "      <td>9497.606945</td>\n",
       "      <td>5107.448107</td>\n",
       "      <td>9921.137757</td>\n",
       "      <td>1.859560</td>\n",
       "      <td>0.957310</td>\n",
       "    </tr>\n",
       "    <tr>\n",
       "      <th>1952</th>\n",
       "      <td>335.473794</td>\n",
       "      <td>9038.685289</td>\n",
       "      <td>7855.900682</td>\n",
       "      <td>0.037115</td>\n",
       "      <td>0.042703</td>\n",
       "    </tr>\n",
       "    <tr>\n",
       "      <th>1953</th>\n",
       "      <td>7974.535928</td>\n",
       "      <td>3634.557078</td>\n",
       "      <td>2837.007936</td>\n",
       "      <td>2.194087</td>\n",
       "      <td>2.810897</td>\n",
       "    </tr>\n",
       "    <tr>\n",
       "      <th>1954</th>\n",
       "      <td>5253.719977</td>\n",
       "      <td>2371.561184</td>\n",
       "      <td>525.065405</td>\n",
       "      <td>2.215300</td>\n",
       "      <td>10.005839</td>\n",
       "    </tr>\n",
       "    <tr>\n",
       "      <th>...</th>\n",
       "      <td>...</td>\n",
       "      <td>...</td>\n",
       "      <td>...</td>\n",
       "      <td>...</td>\n",
       "      <td>...</td>\n",
       "    </tr>\n",
       "    <tr>\n",
       "      <th>2013</th>\n",
       "      <td>1858.185824</td>\n",
       "      <td>7992.766838</td>\n",
       "      <td>1065.972766</td>\n",
       "      <td>0.232483</td>\n",
       "      <td>1.743183</td>\n",
       "    </tr>\n",
       "    <tr>\n",
       "      <th>2014</th>\n",
       "      <td>6703.980778</td>\n",
       "      <td>3528.196527</td>\n",
       "      <td>7378.029420</td>\n",
       "      <td>1.900115</td>\n",
       "      <td>0.908641</td>\n",
       "    </tr>\n",
       "    <tr>\n",
       "      <th>2015</th>\n",
       "      <td>4517.128164</td>\n",
       "      <td>5770.699889</td>\n",
       "      <td>3079.832206</td>\n",
       "      <td>0.782770</td>\n",
       "      <td>1.466680</td>\n",
       "    </tr>\n",
       "    <tr>\n",
       "      <th>2016</th>\n",
       "      <td>5997.099593</td>\n",
       "      <td>3828.825372</td>\n",
       "      <td>4369.227986</td>\n",
       "      <td>1.566303</td>\n",
       "      <td>1.372576</td>\n",
       "    </tr>\n",
       "    <tr>\n",
       "      <th>2017</th>\n",
       "      <td>1824.327521</td>\n",
       "      <td>212.155847</td>\n",
       "      <td>3694.137814</td>\n",
       "      <td>8.598997</td>\n",
       "      <td>0.493844</td>\n",
       "    </tr>\n",
       "  </tbody>\n",
       "</table>\n",
       "<p>68 rows × 5 columns</p>\n",
       "</div>"
      ],
      "text/plain": [
       "              GDP        Money  Price Level  Velocity   Real GDP\n",
       "1950  1305.807967  2526.043831  7590.067715  0.516938   0.172042\n",
       "1951  9497.606945  5107.448107  9921.137757  1.859560   0.957310\n",
       "1952   335.473794  9038.685289  7855.900682  0.037115   0.042703\n",
       "1953  7974.535928  3634.557078  2837.007936  2.194087   2.810897\n",
       "1954  5253.719977  2371.561184   525.065405  2.215300  10.005839\n",
       "...           ...          ...          ...       ...        ...\n",
       "2013  1858.185824  7992.766838  1065.972766  0.232483   1.743183\n",
       "2014  6703.980778  3528.196527  7378.029420  1.900115   0.908641\n",
       "2015  4517.128164  5770.699889  3079.832206  0.782770   1.466680\n",
       "2016  5997.099593  3828.825372  4369.227986  1.566303   1.372576\n",
       "2017  1824.327521   212.155847  3694.137814  8.598997   0.493844\n",
       "\n",
       "[68 rows x 5 columns]"
      ]
     },
     "execution_count": 37,
     "metadata": {},
     "output_type": "execute_result"
    }
   ],
   "source": [
    "#MUTATE dataframe, add a new column by applying math to two other columns\n",
    "df[\"Velocity\"] = df[\"GDP\"].div(df[\"Money\"])\n",
    "df[\"Real GDP\"] = df[\"GDP\"].div(df[\"Price Level\"])\n",
    "df"
   ]
  },
  {
   "cell_type": "code",
   "execution_count": 38,
   "id": "9ba868c3",
   "metadata": {
    "scrolled": true
   },
   "outputs": [
    {
     "data": {
      "text/plain": [
       "GDP            8618.387556\n",
       "Money          3202.873530\n",
       "Price Level    7545.316501\n",
       "Velocity          2.690830\n",
       "Real GDP          1.142217\n",
       "Name: 2001, dtype: float64"
      ]
     },
     "execution_count": 38,
     "metadata": {},
     "output_type": "execute_result"
    }
   ],
   "source": [
    "df.loc[2001]"
   ]
  },
  {
   "cell_type": "code",
   "execution_count": 40,
   "id": "d5c504a2",
   "metadata": {
    "scrolled": true
   },
   "outputs": [
    {
     "data": {
      "text/plain": [
       "GDP            7974.535928\n",
       "Money          3634.557078\n",
       "Price Level    2837.007936\n",
       "Velocity          2.194087\n",
       "Real GDP          2.810897\n",
       "Name: 1953, dtype: float64"
      ]
     },
     "execution_count": 40,
     "metadata": {},
     "output_type": "execute_result"
    }
   ],
   "source": [
    "df.iloc[3]  # REMEMBER this is the row number!"
   ]
  },
  {
   "cell_type": "code",
   "execution_count": 42,
   "id": "b7996a39",
   "metadata": {},
   "outputs": [
    {
     "data": {
      "text/html": [
       "<div>\n",
       "<style scoped>\n",
       "    .dataframe tbody tr th:only-of-type {\n",
       "        vertical-align: middle;\n",
       "    }\n",
       "\n",
       "    .dataframe tbody tr th {\n",
       "        vertical-align: top;\n",
       "    }\n",
       "\n",
       "    .dataframe thead th {\n",
       "        text-align: right;\n",
       "    }\n",
       "</style>\n",
       "<table border=\"1\" class=\"dataframe\">\n",
       "  <thead>\n",
       "    <tr style=\"text-align: right;\">\n",
       "      <th></th>\n",
       "      <th>GDP</th>\n",
       "      <th>Real GDP</th>\n",
       "    </tr>\n",
       "  </thead>\n",
       "  <tbody>\n",
       "    <tr>\n",
       "      <th>1990</th>\n",
       "      <td>8692.824152</td>\n",
       "      <td>3.769843</td>\n",
       "    </tr>\n",
       "    <tr>\n",
       "      <th>1991</th>\n",
       "      <td>8388.150040</td>\n",
       "      <td>0.948288</td>\n",
       "    </tr>\n",
       "    <tr>\n",
       "      <th>1992</th>\n",
       "      <td>3707.733957</td>\n",
       "      <td>0.540446</td>\n",
       "    </tr>\n",
       "    <tr>\n",
       "      <th>1993</th>\n",
       "      <td>6204.693662</td>\n",
       "      <td>1.090128</td>\n",
       "    </tr>\n",
       "    <tr>\n",
       "      <th>1994</th>\n",
       "      <td>4971.057991</td>\n",
       "      <td>2.198979</td>\n",
       "    </tr>\n",
       "    <tr>\n",
       "      <th>1995</th>\n",
       "      <td>227.501518</td>\n",
       "      <td>0.023987</td>\n",
       "    </tr>\n",
       "    <tr>\n",
       "      <th>1996</th>\n",
       "      <td>3514.102533</td>\n",
       "      <td>0.363316</td>\n",
       "    </tr>\n",
       "    <tr>\n",
       "      <th>1997</th>\n",
       "      <td>9609.411708</td>\n",
       "      <td>39.236352</td>\n",
       "    </tr>\n",
       "    <tr>\n",
       "      <th>1998</th>\n",
       "      <td>8737.083729</td>\n",
       "      <td>1.281526</td>\n",
       "    </tr>\n",
       "    <tr>\n",
       "      <th>1999</th>\n",
       "      <td>5136.417369</td>\n",
       "      <td>0.520619</td>\n",
       "    </tr>\n",
       "    <tr>\n",
       "      <th>2000</th>\n",
       "      <td>6050.223896</td>\n",
       "      <td>1.478378</td>\n",
       "    </tr>\n",
       "  </tbody>\n",
       "</table>\n",
       "</div>"
      ],
      "text/plain": [
       "              GDP   Real GDP\n",
       "1990  8692.824152   3.769843\n",
       "1991  8388.150040   0.948288\n",
       "1992  3707.733957   0.540446\n",
       "1993  6204.693662   1.090128\n",
       "1994  4971.057991   2.198979\n",
       "1995   227.501518   0.023987\n",
       "1996  3514.102533   0.363316\n",
       "1997  9609.411708  39.236352\n",
       "1998  8737.083729   1.281526\n",
       "1999  5136.417369   0.520619\n",
       "2000  6050.223896   1.478378"
      ]
     },
     "execution_count": 42,
     "metadata": {},
     "output_type": "execute_result"
    }
   ],
   "source": [
    "# Call a subset of rows and columsn from DF\n",
    "\n",
    "df.loc[1990:2000,[\"GDP\",\"Real GDP\"]]"
   ]
  },
  {
   "cell_type": "code",
   "execution_count": 43,
   "id": "cd4cce78",
   "metadata": {},
   "outputs": [
    {
     "data": {
      "text/html": [
       "<div>\n",
       "<style scoped>\n",
       "    .dataframe tbody tr th:only-of-type {\n",
       "        vertical-align: middle;\n",
       "    }\n",
       "\n",
       "    .dataframe tbody tr th {\n",
       "        vertical-align: top;\n",
       "    }\n",
       "\n",
       "    .dataframe thead th {\n",
       "        text-align: right;\n",
       "    }\n",
       "</style>\n",
       "<table border=\"1\" class=\"dataframe\">\n",
       "  <thead>\n",
       "    <tr style=\"text-align: right;\">\n",
       "      <th></th>\n",
       "      <th>GDP</th>\n",
       "      <th>Real GDP</th>\n",
       "    </tr>\n",
       "  </thead>\n",
       "  <tbody>\n",
       "    <tr>\n",
       "      <th>1950</th>\n",
       "      <td>1305.807967</td>\n",
       "      <td>0.172042</td>\n",
       "    </tr>\n",
       "    <tr>\n",
       "      <th>1951</th>\n",
       "      <td>9497.606945</td>\n",
       "      <td>0.957310</td>\n",
       "    </tr>\n",
       "    <tr>\n",
       "      <th>1952</th>\n",
       "      <td>335.473794</td>\n",
       "      <td>0.042703</td>\n",
       "    </tr>\n",
       "    <tr>\n",
       "      <th>1953</th>\n",
       "      <td>7974.535928</td>\n",
       "      <td>2.810897</td>\n",
       "    </tr>\n",
       "    <tr>\n",
       "      <th>1954</th>\n",
       "      <td>5253.719977</td>\n",
       "      <td>10.005839</td>\n",
       "    </tr>\n",
       "    <tr>\n",
       "      <th>...</th>\n",
       "      <td>...</td>\n",
       "      <td>...</td>\n",
       "    </tr>\n",
       "    <tr>\n",
       "      <th>2013</th>\n",
       "      <td>1858.185824</td>\n",
       "      <td>1.743183</td>\n",
       "    </tr>\n",
       "    <tr>\n",
       "      <th>2014</th>\n",
       "      <td>6703.980778</td>\n",
       "      <td>0.908641</td>\n",
       "    </tr>\n",
       "    <tr>\n",
       "      <th>2015</th>\n",
       "      <td>4517.128164</td>\n",
       "      <td>1.466680</td>\n",
       "    </tr>\n",
       "    <tr>\n",
       "      <th>2016</th>\n",
       "      <td>5997.099593</td>\n",
       "      <td>1.372576</td>\n",
       "    </tr>\n",
       "    <tr>\n",
       "      <th>2017</th>\n",
       "      <td>1824.327521</td>\n",
       "      <td>0.493844</td>\n",
       "    </tr>\n",
       "  </tbody>\n",
       "</table>\n",
       "<p>68 rows × 2 columns</p>\n",
       "</div>"
      ],
      "text/plain": [
       "              GDP   Real GDP\n",
       "1950  1305.807967   0.172042\n",
       "1951  9497.606945   0.957310\n",
       "1952   335.473794   0.042703\n",
       "1953  7974.535928   2.810897\n",
       "1954  5253.719977  10.005839\n",
       "...           ...        ...\n",
       "2013  1858.185824   1.743183\n",
       "2014  6703.980778   0.908641\n",
       "2015  4517.128164   1.466680\n",
       "2016  5997.099593   1.372576\n",
       "2017  1824.327521   0.493844\n",
       "\n",
       "[68 rows x 2 columns]"
      ]
     },
     "execution_count": 43,
     "metadata": {},
     "output_type": "execute_result"
    }
   ],
   "source": [
    "#Print subset of columns, but all rows...\n",
    "df[[\"GDP\", \"Real GDP\"]]"
   ]
  },
  {
   "cell_type": "code",
   "execution_count": 44,
   "id": "010d71c9",
   "metadata": {
    "scrolled": true
   },
   "outputs": [
    {
     "data": {
      "text/plain": [
       "<AxesSubplot:>"
      ]
     },
     "execution_count": 44,
     "metadata": {},
     "output_type": "execute_result"
    },
    {
     "data": {
      "image/png": "[encoded data removed]",
      "text/plain": [
       "<Figure size 432x288 with 1 Axes>"
      ]
     },
     "metadata": {
      "needs_background": "light"
     },
     "output_type": "display_data"
    }
   ],
   "source": [
    "import matplotlib as plt\n",
    "df.plot.line()"
   ]
  },
  {
   "cell_type": "code",
   "execution_count": 45,
   "id": "6dd2870c",
   "metadata": {},
   "outputs": [
    {
     "ename": "AttributeError",
     "evalue": "module 'matplotlib' has no attribute 'title'",
     "output_type": "error",
     "traceback": [
      "\u001b[1;31m---------------------------------------------------------------------------\u001b[0m",
      "\u001b[1;31mAttributeError\u001b[0m                            Traceback (most recent call last)",
      "\u001b[1;32m<ipython-input-45-eeb8d0d45071>\u001b[0m in \u001b[0;36m<module>\u001b[1;34m\u001b[0m\n\u001b[0;32m      1\u001b[0m \u001b[1;32mfor\u001b[0m \u001b[0mkey\u001b[0m \u001b[1;32min\u001b[0m \u001b[0mdf\u001b[0m\u001b[1;33m:\u001b[0m\u001b[1;33m\u001b[0m\u001b[1;33m\u001b[0m\u001b[0m\n\u001b[0;32m      2\u001b[0m     \u001b[0mdf\u001b[0m\u001b[1;33m[\u001b[0m\u001b[0mkey\u001b[0m\u001b[1;33m]\u001b[0m\u001b[1;33m.\u001b[0m\u001b[0mplot\u001b[0m\u001b[1;33m.\u001b[0m\u001b[0mline\u001b[0m\u001b[1;33m(\u001b[0m\u001b[1;33m)\u001b[0m\u001b[1;33m\u001b[0m\u001b[1;33m\u001b[0m\u001b[0m\n\u001b[1;32m----> 3\u001b[1;33m     \u001b[0mplot\u001b[0m\u001b[1;33m.\u001b[0m\u001b[0mtitle\u001b[0m\u001b[1;33m(\u001b[0m\u001b[0mkey\u001b[0m\u001b[1;33m)\u001b[0m\u001b[1;33m\u001b[0m\u001b[1;33m\u001b[0m\u001b[0m\n\u001b[0m\u001b[0;32m      4\u001b[0m     \u001b[0mplot\u001b[0m\u001b[1;33m.\u001b[0m\u001b[0mshow\u001b[0m\u001b[1;33m(\u001b[0m\u001b[1;33m)\u001b[0m\u001b[1;33m\u001b[0m\u001b[1;33m\u001b[0m\u001b[0m\n\u001b[0;32m      5\u001b[0m     \u001b[0mplot\u001b[0m\u001b[1;33m.\u001b[0m\u001b[0mclose\u001b[0m\u001b[1;33m(\u001b[0m\u001b[1;33m)\u001b[0m\u001b[1;33m\u001b[0m\u001b[1;33m\u001b[0m\u001b[0m\n",
      "\u001b[1;31mAttributeError\u001b[0m: module 'matplotlib' has no attribute 'title'"
     ]
    },
    {
     "data": {
      "image/png": "[encoded data removed]",
      "text/plain": [
       "<Figure size 432x288 with 1 Axes>"
      ]
     },
     "metadata": {
      "needs_background": "light"
     },
     "output_type": "display_data"
    }
   ],
   "source": [
    "for key in df:\n",
    "    df[key].plot.line()\n",
    "    plot.title(key)\n",
    "    plot.show()\n",
    "    plot.close()"
   ]
  }
 ],
 "metadata": {
  "kernelspec": {
   "display_name": "Python 3",
   "language": "python",
   "name": "python3"
  },
  "language_info": {
   "codemirror_mode": {
    "name": "ipython",
    "version": 3
   },
   "file_extension": ".py",
   "mimetype": "text/x-python",
   "name": "python",
   "nbconvert_exporter": "python",
   "pygments_lexer": "ipython3",
   "version": "3.8.8"
  }
 },
 "nbformat": 4,
 "nbformat_minor": 5
}
