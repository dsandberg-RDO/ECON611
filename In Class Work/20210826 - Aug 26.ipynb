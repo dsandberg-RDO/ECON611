{
 "cells": [
  {
   "cell_type": "code",
   "execution_count": 4,
   "id": "8c5598ff",
   "metadata": {},
   "outputs": [
    {
     "name": "stdout",
     "output_type": "stream",
     "text": [
      "This is line 1This is line 2This is line 3\n"
     ]
    }
   ],
   "source": [
    "l1 = \"This is line 1\"\n",
    "l2 = \"This is line 2\"\n",
    "l3 = \"This is line 3\"\n",
    "\n"
   ]
  },
  {
   "cell_type": "code",
   "execution_count": 5,
   "id": "cb1b48ef",
   "metadata": {},
   "outputs": [
    {
     "name": "stdout",
     "output_type": "stream",
     "text": [
      "This is line 1This is line 2This is line 3\n"
     ]
    }
   ],
   "source": [
    "print(l1 + l2 + l3, sep = \"\\n\")"
   ]
  },
  {
   "cell_type": "code",
   "execution_count": 8,
   "id": "861a0edf",
   "metadata": {},
   "outputs": [
    {
     "name": "stdout",
     "output_type": "stream",
     "text": [
      "Start with single and \"double quote\" here\n",
      "Double quote start and \"double quote inside\" this text\n",
      "Single quote start and 'double quote inside' this text\n"
     ]
    }
   ],
   "source": [
    "double_in_single = 'Start with single and \"double quote\" here'\n",
    "double_in_double = \"Double quote start and \\\"double quote inside\\\" this text\"\n",
    "single_in_single = 'Single quote start and \\'double quote inside\\' this text'\n",
    "\n",
    "print(double_in_single)\n",
    "print(double_in_double)\n",
    "print(single_in_single)"
   ]
  },
  {
   "cell_type": "code",
   "execution_count": 10,
   "id": "3fbd752a",
   "metadata": {},
   "outputs": [
    {
     "name": "stdout",
     "output_type": "stream",
     "text": [
      "I'll add a \\ to this text\n"
     ]
    }
   ],
   "source": [
    "# Add a backslash to the text\n",
    "add_bk = \"I'll add a \\\\ to this text\"\n",
    "print(add_bk)"
   ]
  },
  {
   "cell_type": "code",
   "execution_count": 12,
   "id": "32fee3ce",
   "metadata": {},
   "outputs": [
    {
     "name": "stdout",
     "output_type": "stream",
     "text": [
      "How does this look?\n"
     ]
    }
   ],
   "source": [
    "newline_after_backslash = \\\n",
    "    \"How does this look?\"\n",
    "\n",
    "print(newline_after_backslash)"
   ]
  },
  {
   "cell_type": "code",
   "execution_count": 13,
   "id": "1d37fa6c",
   "metadata": {},
   "outputs": [
    {
     "name": "stdout",
     "output_type": "stream",
     "text": [
      "Little bear and \n",
      "\tthe hanging indent line\n"
     ]
    }
   ],
   "source": [
    "newline_and_hanging_indent = \\\n",
    "    \"Little bear and \\n\\tthe hanging indent line\"\n",
    "\n",
    "print(newline_and_hanging_indent)"
   ]
  },
  {
   "cell_type": "code",
   "execution_count": 15,
   "id": "a7c0ac19",
   "metadata": {},
   "outputs": [
    {
     "name": "stdout",
     "output_type": "stream",
     "text": [
      " 1 leading space\n",
      "1 leading space\n"
     ]
    }
   ],
   "source": [
    "leading_spaces = \" 1 leading space\"\n",
    "print(leading_spaces)\n",
    "print(leading_spaces.strip())"
   ]
  },
  {
   "cell_type": "code",
   "execution_count": 23,
   "id": "86a6f7f5",
   "metadata": {},
   "outputs": [
    {
     "name": "stdout",
     "output_type": "stream",
     "text": [
      "The original text: \n",
      "    Grace bank, frankly run top        \n",
      "Removing left-side spaces:\n",
      "Grace bank, frankly run top        \n",
      "Removing right-side spaces:\n",
      "    Grace bank, frankly run top\n",
      "Remove all spaces with hanging indent:\n",
      "\tGracebank,franklyruntop\n",
      "convert to title case:\n",
      "    Grace Bank, Frankly Run Top        \n",
      "convert to upper case:\n",
      "    GRACE BANK, FRANKLY RUN TOP        \n",
      "convert to lower case:\n",
      "    grace bank, frankly run top        \n"
     ]
    }
   ],
   "source": [
    "spaces = \"    Grace bank, frankly run top        \"\n",
    "print(\"The original text: \",spaces, sep = \"\\n\")\n",
    "\n",
    "print(\"Removing left-side spaces:\", spaces.lstrip(), sep = \"\\n\")\n",
    "print(\"Removing right-side spaces:\", spaces.rstrip(), sep = \"\\n\")\n",
    "print(\"Remove all spaces with hanging indent:\", spaces.replace(\" \", \"\"), sep = \"\\n\\t\")\n",
    "\n",
    "print(\"convert to title case:\", spaces.title(), sep = \"\\n\")\n",
    "\n",
    "print(\"convert to upper case:\", spaces.upper(), sep = \"\\n\")\n",
    "\n",
    "print(\"convert to lower case:\", spaces.lower(), sep = \"\\n\")"
   ]
  },
  {
   "cell_type": "code",
   "execution_count": 26,
   "id": "eb086657",
   "metadata": {},
   "outputs": [
    {
     "name": "stdout",
     "output_type": "stream",
     "text": [
      "2.3333333333333335\n"
     ]
    }
   ],
   "source": [
    "a = 7/3\n",
    "print(a)"
   ]
  },
  {
   "cell_type": "code",
   "execution_count": 28,
   "id": "ec78d397",
   "metadata": {},
   "outputs": [
    {
     "name": "stdout",
     "output_type": "stream",
     "text": [
      "c1: 0.0\n",
      "c3: 1.0\n",
      "c4: 0.6666666666666666\n",
      "c5: 1.5\n"
     ]
    }
   ],
   "source": [
    "c1 = 0/1\n",
    "# c2 = 1/0\n",
    "c3 = 1/1\n",
    "c4 = 2/3\n",
    "c5 = 3/2\n",
    "\n",
    "print(\"c1:\", c1)\n",
    "# print(\"c2:\", c2)\n",
    "print(\"c3:\", c3)\n",
    "print(\"c4:\", c4)\n",
    "print(\"c5:\", c5)"
   ]
  },
  {
   "cell_type": "code",
   "execution_count": 35,
   "id": "458c3c9f",
   "metadata": {},
   "outputs": [
    {
     "name": "stdout",
     "output_type": "stream",
     "text": [
      "<class 'float'>\n"
     ]
    }
   ],
   "source": [
    "aa = (3 + 1.5)\n",
    "print(aa)\n"
   ]
  },
  {
   "cell_type": "code",
   "execution_count": null,
   "id": "35a5123e",
   "metadata": {},
   "outputs": [],
   "source": [
    "# How does one trap div/0 errors?"
   ]
  },
  {
   "cell_type": "code",
   "execution_count": 29,
   "id": "8d5e4e9b",
   "metadata": {},
   "outputs": [
    {
     "data": {
      "text/plain": [
       "int"
      ]
     },
     "execution_count": 29,
     "metadata": {},
     "output_type": "execute_result"
    }
   ],
   "source": [
    "type(7)"
   ]
  },
  {
   "cell_type": "code",
   "execution_count": 30,
   "id": "77209d6f",
   "metadata": {},
   "outputs": [
    {
     "data": {
      "text/plain": [
       "7.0"
      ]
     },
     "execution_count": 30,
     "metadata": {},
     "output_type": "execute_result"
    }
   ],
   "source": [
    "float(7)"
   ]
  },
  {
   "cell_type": "code",
   "execution_count": 31,
   "id": "d4cc77fd",
   "metadata": {},
   "outputs": [
    {
     "data": {
      "text/plain": [
       "float"
      ]
     },
     "execution_count": 31,
     "metadata": {},
     "output_type": "execute_result"
    }
   ],
   "source": [
    "type(float(7))"
   ]
  },
  {
   "cell_type": "code",
   "execution_count": 37,
   "id": "4c10ec05",
   "metadata": {},
   "outputs": [
    {
     "data": {
      "text/plain": [
       "sys.float_info(max=1.7976931348623157e+308, max_exp=1024, max_10_exp=308, min=2.2250738585072014e-308, min_exp=-1021, min_10_exp=-307, dig=15, mant_dig=53, epsilon=2.220446049250313e-16, radix=2, rounds=1)"
      ]
     },
     "execution_count": 37,
     "metadata": {},
     "output_type": "execute_result"
    }
   ],
   "source": [
    "import sys\n",
    "\n",
    "sys.float_info"
   ]
  },
  {
   "cell_type": "code",
   "execution_count": 38,
   "id": "6b31ee59",
   "metadata": {},
   "outputs": [
    {
     "data": {
      "text/plain": [
       "179769313486231590772930519078902473361797697894230657273430081157732675805500963132708477322407536021120113879871393357658789768814416622492847430639474124377767893424865485276302219601246094119453082952085005768838150682342462881473913110540827237163350510684586298239947245938479716304835356329624224137216"
      ]
     },
     "execution_count": 38,
     "metadata": {},
     "output_type": "execute_result"
    }
   ],
   "source": [
    "# As an integer... 10^1024 doesn't exceed the max value.\n",
    "2 ** 1024 "
   ]
  },
  {
   "cell_type": "code",
   "execution_count": 39,
   "id": "73dc0e10",
   "metadata": {},
   "outputs": [
    {
     "ename": "OverflowError",
     "evalue": "(34, 'Result too large')",
     "output_type": "error",
     "traceback": [
      "\u001b[1;31m---------------------------------------------------------------------------\u001b[0m",
      "\u001b[1;31mOverflowError\u001b[0m                             Traceback (most recent call last)",
      "\u001b[1;32m<ipython-input-39-5d75a30e5989>\u001b[0m in \u001b[0;36m<module>\u001b[1;34m\u001b[0m\n\u001b[1;32m----> 1\u001b[1;33m \u001b[1;36m2.0\u001b[0m \u001b[1;33m**\u001b[0m \u001b[1;36m1024\u001b[0m\u001b[1;33m\u001b[0m\u001b[1;33m\u001b[0m\u001b[0m\n\u001b[0m",
      "\u001b[1;31mOverflowError\u001b[0m: (34, 'Result too large')"
     ]
    }
   ],
   "source": [
    "2.0 ** 1024"
   ]
  },
  {
   "cell_type": "code",
   "execution_count": 40,
   "id": "ec291e85",
   "metadata": {},
   "outputs": [
    {
     "data": {
      "text/plain": [
       "8.98846567431158e+307"
      ]
     },
     "execution_count": 40,
     "metadata": {},
     "output_type": "execute_result"
    }
   ],
   "source": [
    "2.0 ** 1023"
   ]
  },
  {
   "cell_type": "code",
   "execution_count": null,
   "id": "e93b2020",
   "metadata": {},
   "outputs": [],
   "source": []
  }
 ],
 "metadata": {
  "kernelspec": {
   "display_name": "Python 3",
   "language": "python",
   "name": "python3"
  },
  "language_info": {
   "codemirror_mode": {
    "name": "ipython",
    "version": 3
   },
   "file_extension": ".py",
   "mimetype": "text/x-python",
   "name": "python",
   "nbconvert_exporter": "python",
   "pygments_lexer": "ipython3",
   "version": "3.8.8"
  }
 },
 "nbformat": 4,
 "nbformat_minor": 5
}
