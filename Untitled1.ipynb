{
 "cells": [
  {
   "cell_type": "markdown",
   "id": "423f63d8",
   "metadata": {},
   "source": [
    "## Second proof of concept"
   ]
  },
  {
   "cell_type": "code",
   "execution_count": 3,
   "id": "8fec50fc",
   "metadata": {},
   "outputs": [
    {
     "data": {
      "text/plain": [
       "194.0117205133309"
      ]
     },
     "execution_count": 3,
     "metadata": {},
     "output_type": "execute_result"
    }
   ],
   "source": [
    "# Save file locally, then add, commit and push.\n",
    "\n",
    "def exponentizer(x,e):\n",
    "    n = x ** e\n",
    "    return n;\n",
    "x = 4\n",
    "e = 3.2\n",
    "\n",
    "print(\"Exponentizer says \",x, \" to the \",e, \" power is: \","
   ]
  },
  {
   "cell_type": "code",
   "execution_count": null,
   "id": "066e846d",
   "metadata": {},
   "outputs": [],
   "source": []
  }
 ],
 "metadata": {
  "kernelspec": {
   "display_name": "Python 3",
   "language": "python",
   "name": "python3"
  },
  "language_info": {
   "codemirror_mode": {
    "name": "ipython",
    "version": 3
   },
   "file_extension": ".py",
   "mimetype": "text/x-python",
   "name": "python",
   "nbconvert_exporter": "python",
   "pygments_lexer": "ipython3",
   "version": "3.8.8"
  }
 },
 "nbformat": 4,
 "nbformat_minor": 5
}
