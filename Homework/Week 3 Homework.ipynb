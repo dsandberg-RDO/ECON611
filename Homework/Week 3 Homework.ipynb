{
 "cells": [
  {
   "cell_type": "code",
   "execution_count": 1,
   "id": "e45a72d5",
   "metadata": {},
   "outputs": [
    {
     "name": "stdout",
     "output_type": "stream",
     "text": [
      "Length of random_list: 1000\n",
      "Min value in random_list: 0\n",
      "Max value in random_list: 100\n"
     ]
    }
   ],
   "source": [
    "# 1. Create a list of random numbers between 0 and 100 whose length is 1000. \n",
    "# Hint: import random; search \"python random\" to learn more about the library\n",
    "\n",
    "import random\n",
    "\n",
    "random.seed = 141\n",
    "\n",
    "random_list = [random.randint(0, 100) for x in range(1000)]\n",
    "\n",
    "print(\"Length of random_list:\", len(random_list))\n",
    "print(\"Min value in random_list:\", min(random_list))\n",
    "print(\"Max value in random_list:\", max(random_list))"
   ]
  },
  {
   "cell_type": "code",
   "execution_count": 2,
   "id": "5e04e03f",
   "metadata": {},
   "outputs": [
    {
     "name": "stdout",
     "output_type": "stream",
     "text": [
      "mean from private function: 50.987\n",
      "Mean from statistics.mean: 50.987\n",
      "Variance calculated from manually derived functions: 862.1188309999985\n",
      "Variance calculated from statistics.variance: 862.9818128128128\n"
     ]
    }
   ],
   "source": [
    "#2. Use the variance function from the textbook to find the variance of this list.\n",
    "# Assume that the list represent a population in whole. \n",
    "import numpy as np\n",
    "import statistics\n",
    "\n",
    "def total(list_obj):\n",
    "    total_ = 0\n",
    "    n = len(list_obj)\n",
    "    for i in range(n):\n",
    "        total_ += list_obj[i]\n",
    "    return total_\n",
    "\n",
    "def mean(list_obj):\n",
    "    n = len(list_obj) \n",
    "    mean_ = total(list_obj) / n\n",
    "    return mean_\n",
    "\n",
    "def variance(list_obj, sample = False):\n",
    "    list_mean = mean(list_obj) \n",
    "    # use n to calculate average of sum squared diffs \n",
    "    n = len(list_obj) \n",
    "    # create value we can add squared diffs to \n",
    "    sum_sq_diff = 0 \n",
    "    for item in list_obj: \n",
    "        # adds each squared diff to sum_sq_diff \n",
    "        sum_sq_diff += (item - list_mean) ** 2 \n",
    "        if sample == False:\n",
    "            variance_ = sum_sq_diff / n \n",
    "        else:\n",
    "            variance_ = sum_sq_diff / (n - 1) \n",
    "    return variance_ \n",
    "\n",
    "\n",
    "# I'd likely not build my own statistics fucntions, but I understand Prof. Caton's intent\n",
    "# Let's compare the user-defined mean and variance functions against the imported packages\n",
    "# Note the difference in the variance estimates.\n",
    "\n",
    "print(\"mean from private function:\", mean(random_list))\n",
    "print(\"Mean from statistics.mean:\", statistics.mean(random_list))\n",
    "\n",
    "print(\"Variance calculated from manually derived functions:\", variance(random_list))\n",
    "print(\"Variance calculated from statistics.variance:\", statistics.variance(random_list))"
   ]
  },
  {
   "cell_type": "code",
   "execution_count": 3,
   "id": "85d21906",
   "metadata": {},
   "outputs": [
    {
     "data": {
      "text/plain": [
       "{1: {'list': [8, 8, 1, 3, 7, 0, 6, 9, 8, 10]},\n",
       " 2: {'list': [6, 6, 5, 0, 1, 6, 10, 5, 7, 6]},\n",
       " 3: {'list': [5, 6, 8, 2, 2, 2, 2, 9, 4, 3]},\n",
       " 4: {'list': [5, 3, 5, 10, 4, 2, 6, 6, 7, 2]},\n",
       " 5: {'list': [5, 7, 8, 4, 2, 6, 3, 10, 5, 10]},\n",
       " 6: {'list': [1, 10, 4, 10, 0, 6, 9, 4, 5, 2]},\n",
       " 7: {'list': [4, 0, 4, 9, 0, 0, 9, 2, 9, 2]},\n",
       " 8: {'list': [3, 2, 6, 4, 1, 2, 6, 3, 6, 4]},\n",
       " 9: {'list': [8, 8, 4, 9, 10, 0, 7, 1, 3, 4]}}"
      ]
     },
     "execution_count": 3,
     "metadata": {},
     "output_type": "execute_result"
    }
   ],
   "source": [
    "# 3. Create a 9 more lists of the same length whose elements are random numbers between 0 and 100. \n",
    "# Use a nested dictionary to house and identify these lists. \n",
    "# Keys for the first layer should be the numbers 1 through 10. Lists should be\n",
    "# stored using a second key as follows: dict_name[index][\"list\"]. \n",
    "# Index represents the particular integer key between 1 and 10 as noted above.\n",
    "\n",
    "dict = {}\n",
    "for i in range(1,10):\n",
    "    dict[i] = {}\n",
    "    dict[i][\"list\"] = [random.randint(0, 10) for x in range(10)]\n",
    "    \n",
    "dict"
   ]
  },
  {
   "cell_type": "code",
   "execution_count": 4,
   "id": "c830ac57",
   "metadata": {},
   "outputs": [
    {
     "data": {
      "text/plain": [
       "{1: {'list': [8, 8, 1, 3, 7, 0, 6, 9, 8, 10], 'variance': 12},\n",
       " 2: {'list': [6, 6, 5, 0, 1, 6, 10, 5, 7, 6], 'variance': 8.177777777777777},\n",
       " 3: {'list': [5, 6, 8, 2, 2, 2, 2, 9, 4, 3], 'variance': 6.9},\n",
       " 4: {'list': [5, 3, 5, 10, 4, 2, 6, 6, 7, 2], 'variance': 6},\n",
       " 5: {'list': [5, 7, 8, 4, 2, 6, 3, 10, 5, 10], 'variance': 7.555555555555555},\n",
       " 6: {'list': [1, 10, 4, 10, 0, 6, 9, 4, 5, 2], 'variance': 13.211111111111112},\n",
       " 7: {'list': [4, 0, 4, 9, 0, 0, 9, 2, 9, 2], 'variance': 14.544444444444444},\n",
       " 8: {'list': [3, 2, 6, 4, 1, 2, 6, 3, 6, 4], 'variance': 3.3444444444444446},\n",
       " 9: {'list': [8, 8, 4, 9, 10, 0, 7, 1, 3, 4], 'variance': 12.044444444444444}}"
      ]
     },
     "execution_count": 4,
     "metadata": {},
     "output_type": "execute_result"
    }
   ],
   "source": [
    "#4. Find the variance of each list and store it as follows: dict_name[index][\"variance\"]\n",
    "for i in range(1,10):\n",
    "    v = statistics.variance(dict[i][\"list\"])\n",
    "    dict[i][\"variance\"] = v \n",
    "    \n",
    "dict    "
   ]
  },
  {
   "cell_type": "code",
   "execution_count": 5,
   "id": "5a5ae52d",
   "metadata": {},
   "outputs": [
    {
     "name": "stdout",
     "output_type": "stream",
     "text": [
      "Minimum value is: 0 ; Maximum value is: 100\n"
     ]
    }
   ],
   "source": [
    "#5. At the end of chapter 2, we used for loops to find min and max values. \n",
    "# create a min() function and max() function and pass the values from the list\n",
    "# in question 1 to each of these to determine the min and max values in that list.\n",
    "\n",
    "def list_max(list_obj):\n",
    "    return max(list_obj)\n",
    "\n",
    "def list_min(list_obj):\n",
    "    return min(list_obj)\n",
    "\n",
    "print(\"Minimum value is:\", list_min(random_list), \"; Maximum value is:\", list_max(random_list))"
   ]
  },
  {
   "cell_type": "code",
   "execution_count": 10,
   "id": "a72a3647",
   "metadata": {},
   "outputs": [],
   "source": [
    "#6. Explain why it might be advantageous to create a function instead of building all commands from \n",
    "# scratch as you create a script.\n",
    "\n",
    "# Functions are more advantageous becuase they are reusable chunks of code and make maintenance of the \n",
    "# program/script much more efficent."
   ]
  },
  {
   "cell_type": "code",
   "execution_count": 7,
   "id": "1a97151b",
   "metadata": {},
   "outputs": [
    {
     "name": "stdout",
     "output_type": "stream",
     "text": [
      "There are 20 capital letters in this sentence: The former POTUS was Known for Random Capitalization and unusual PUNCTUATION.\n",
      "There are 11 capital letters in this sentence: I used to live in St. Cloud and work on the 2nd floor of FORT KNOX.\n",
      "There are 3 capital letters in this sentence: My uncle Chuck rides a Harley and wears funny glasses.\n"
     ]
    }
   ],
   "source": [
    "#Graduate Student Questions\n",
    "#1. Visit the Python Essentials lesson from Sargent and Stachurski. Complete \n",
    "# exercise 3. Pass 3 other sentences to the function that you create. \n",
    "#Include a paragraph that explains in detail how the function operates\n",
    "\n",
    "# source url: https://python-programming.quantecon.org/python_essentials.html\n",
    "# Write a function that takes a string as an argument and returns the number of capital letters in the string.\n",
    "\n",
    "s1 = \"The former POTUS was Known for Random Capitalization and unusual PUNCTUATION.\"\n",
    "s2 = \"I used to live in St. Cloud and work on the 2nd floor of FORT KNOX.\"\n",
    "s3 = \"My uncle Chuck rides a Harley and wears funny glasses.\"\n",
    "\n",
    "def count_capital_letters(input_str):\n",
    "    count = 0\n",
    "    for letter in input_str:\n",
    "        if letter.isupper() == True:\n",
    "            count += 1\n",
    "    return count\n",
    "    \n",
    "print(\"There are\", count_capital_letters(s1), \"capital letters in this sentence:\", s1)\n",
    "print(\"There are\", count_capital_letters(s2), \"capital letters in this sentence:\", s2)\n",
    "print(\"There are\", count_capital_letters(s3), \"capital letters in this sentence:\", s3)\n",
    "\n",
    "# The function receives as string input. The function begins with initializing a counter variable to zero, then proceeds\n",
    "# with looping thorugh each letter in the list. For each letter in the input string, the letter is evaluated if it is\n",
    "# an upper case letter using the isupper() method. When true, the counter is incremented; when other than true, the loop\n",
    "# continues without incrementing the counter variable. Finally, the function returns the value of the counter after all \n",
    "# characters in the input string have been evaluated."
   ]
  },
  {
   "cell_type": "code",
   "execution_count": 8,
   "id": "d1ab2ba6",
   "metadata": {},
   "outputs": [
    {
     "name": "stdout",
     "output_type": "stream",
     "text": [
      "Does each element of aa exist within bb: True\n",
      "Does each element of cc exist within dd: False\n",
      "Does each element of ee exist within ff: True\n"
     ]
    }
   ],
   "source": [
    "#2. Visit the Python Essentials lesson from Sargent and Stachurski. Complete exercise 4. \n",
    "# Pass 3 pairs of unique lists to the function.\n",
    "# Include a paragraph explaining in detail how the function operates, including explanation for a solution that uses set()\n",
    "\n",
    "# Write a function that takes two sequences seq_a and seq_b as arguments and returns True \n",
    "# if every element in seq_a is also an element of seq_b, else False.\n",
    "\n",
    "aa = [0,2,4,6]\n",
    "bb = [0,2,4,6, 7]\n",
    "#bb = [9,8,7,6,5,4,3,2,1,0]\n",
    "\n",
    "cc = [\"Terri\", \"Greta\", \"Claire\", \"Scott\", \"Scott\"]\n",
    "dd = [\"Dave\", \"Shirley\", \"Ken\", \"Greta\"]\n",
    "\n",
    "ee = [\"Drew\", \"Drew\", \"T\"]\n",
    "ff = [\"Drew\", \"Terri\",\"T\"]\n",
    "\n",
    "def all_a_in_b(a, b):\n",
    "    if set(a).issubset(b):\n",
    "        resp = \"True\"\n",
    "    else:\n",
    "        resp = \"False\"\n",
    "    return resp\n",
    "        \n",
    "print(\"Does each element of aa exist within bb:\",all_a_in_b(aa,bb))\n",
    "print(\"Does each element of cc exist within dd:\",all_a_in_b(cc,dd))\n",
    "print(\"Does each element of ee exist within ff:\",all_a_in_b(ee,ff))\n",
    "\n",
    "# The function accppts two seperatre lists. The function uses the set() method to produce\n",
    "# a distinct list of elements of input list \"a\". The fucnction also uses the issubset() method \n",
    "# to return a list of distinct elements of list \"b\". If distinct values of a is indeed a subset of distinct values of b, \n",
    "# the the returned variable is set to \"True\"; otherwise, the return variable is set to \"False\""
   ]
  }
 ],
 "metadata": {
  "kernelspec": {
   "display_name": "Python 3",
   "language": "python",
   "name": "python3"
  },
  "language_info": {
   "codemirror_mode": {
    "name": "ipython",
    "version": 3
   },
   "file_extension": ".py",
   "mimetype": "text/x-python",
   "name": "python",
   "nbconvert_exporter": "python",
   "pygments_lexer": "ipython3",
   "version": "3.8.8"
  }
 },
 "nbformat": 4,
 "nbformat_minor": 5
}
